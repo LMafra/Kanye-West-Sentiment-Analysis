{
 "cells": [
  {
   "cell_type": "code",
   "execution_count": 1,
   "metadata": {},
   "outputs": [],
   "source": [
    "import numpy as np\n",
    "import pandas as pd\n",
    "from sklearn import preprocessing\n",
    "from sklearn.feature_extraction.text import CountVectorizer, TfidfVectorizer\n",
    "from sklearn.model_selection import KFold\n",
    "from nltk.corpus import stopwords\n",
    "from nltk.stem.snowball import SnowballStemmer\n",
    "import matplotlib\n",
    "from matplotlib import pyplot as plt"
   ]
  },
  {
   "cell_type": "markdown",
   "metadata": {},
   "source": [
    "## Coletando músicas do CSV"
   ]
  },
  {
   "cell_type": "code",
   "execution_count": 2,
   "metadata": {
    "scrolled": false
   },
   "outputs": [
    {
     "data": {
      "text/html": [
       "<div>\n",
       "<style scoped>\n",
       "    .dataframe tbody tr th:only-of-type {\n",
       "        vertical-align: middle;\n",
       "    }\n",
       "\n",
       "    .dataframe tbody tr th {\n",
       "        vertical-align: top;\n",
       "    }\n",
       "\n",
       "    .dataframe thead th {\n",
       "        text-align: right;\n",
       "    }\n",
       "</style>\n",
       "<table border=\"1\" class=\"dataframe\">\n",
       "  <thead>\n",
       "    <tr style=\"text-align: right;\">\n",
       "      <th></th>\n",
       "      <th>music_title</th>\n",
       "      <th>lyrics</th>\n",
       "      <th>year</th>\n",
       "      <th>album</th>\n",
       "    </tr>\n",
       "  </thead>\n",
       "  <tbody>\n",
       "    <tr>\n",
       "      <th>0</th>\n",
       "      <td>All I Need (All I Have)</td>\n",
       "      <td>[Intro]\\nNiggas can't be serious, man\\nYo, yo\\...</td>\n",
       "      <td>NaN</td>\n",
       "      <td>World Record Holders</td>\n",
       "    </tr>\n",
       "    <tr>\n",
       "      <th>1</th>\n",
       "      <td>Message In A Bottle Freestyle</td>\n",
       "      <td>Uh, uh, uh\\nYeah, yeah, yeah\\nPut your hands i...</td>\n",
       "      <td>2007-01-01</td>\n",
       "      <td>NaN</td>\n",
       "    </tr>\n",
       "    <tr>\n",
       "      <th>2</th>\n",
       "      <td>Intro (I’m Good)</td>\n",
       "      <td>[John Legend]\\nOh oh oh oh, I'm good, so good\\...</td>\n",
       "      <td>NaN</td>\n",
       "      <td>I’m Good</td>\n",
       "    </tr>\n",
       "    <tr>\n",
       "      <th>3</th>\n",
       "      <td>Stronger</td>\n",
       "      <td>[Produced by Kanye West, Mike Dean, and Timbal...</td>\n",
       "      <td>2007-07-31</td>\n",
       "      <td>Graduation</td>\n",
       "    </tr>\n",
       "    <tr>\n",
       "      <th>4</th>\n",
       "      <td>On Bonnaroo Music Festival</td>\n",
       "      <td>Last time I got here, before I even arrived, t...</td>\n",
       "      <td>2014-06-13</td>\n",
       "      <td>Kanye West’s Visionary Streams of Consciousness</td>\n",
       "    </tr>\n",
       "  </tbody>\n",
       "</table>\n",
       "</div>"
      ],
      "text/plain": [
       "                     music_title  \\\n",
       "0        All I Need (All I Have)   \n",
       "1  Message In A Bottle Freestyle   \n",
       "2               Intro (I’m Good)   \n",
       "3                       Stronger   \n",
       "4     On Bonnaroo Music Festival   \n",
       "\n",
       "                                              lyrics        year  \\\n",
       "0  [Intro]\\nNiggas can't be serious, man\\nYo, yo\\...         NaN   \n",
       "1  Uh, uh, uh\\nYeah, yeah, yeah\\nPut your hands i...  2007-01-01   \n",
       "2  [John Legend]\\nOh oh oh oh, I'm good, so good\\...         NaN   \n",
       "3  [Produced by Kanye West, Mike Dean, and Timbal...  2007-07-31   \n",
       "4  Last time I got here, before I even arrived, t...  2014-06-13   \n",
       "\n",
       "                                             album  \n",
       "0                             World Record Holders  \n",
       "1                                              NaN  \n",
       "2                                         I’m Good  \n",
       "3                                       Graduation  \n",
       "4  Kanye West’s Visionary Streams of Consciousness  "
      ]
     },
     "execution_count": 2,
     "metadata": {},
     "output_type": "execute_result"
    }
   ],
   "source": [
    "df = pd.read_csv(\"/home/lmafra/Documentos/UnB/MT/Projeto_Final/lyrics-info/lyrics.csv\",encoding='utf-8-sig')\n",
    "df.head()"
   ]
  },
  {
   "cell_type": "code",
   "execution_count": 3,
   "metadata": {
    "scrolled": true
   },
   "outputs": [
    {
     "name": "stdout",
     "output_type": "stream",
     "text": [
      "[Intro]\n",
      "Niggas can't be serious, man\n",
      "Yo, yo\n",
      "\n",
      "[Verse 1: Kanye West]\n",
      "Yo I'm the reason metal detectors go off the meter\n",
      "'Cause I'll run through the airport with the heater\n",
      "Gets the fag at his plane, and if I miss him\n",
      "Put two in his brain at the baggage claim\n",
      "Give him... heavy sluggage, tryna get his luggage\n",
      "Send him to the crossroads, we way too thuggish\n",
      "Shit, we at odds 'til we even up\n",
      "'Til you leave on a stretcher or I leave in cuffs\n",
      "Niggas wanna live, they done breathed enough\n",
      "And I bet you next time they'll believe in us\n",
      "It don't take much brains to know we bust things\n",
      "My gat must bang, through your Mustang\n",
      "Ma ma se, ma ma sa, ma ma ku sa\n",
      "Niggas seen Kanye, red dotted them\n",
      "Hurry up, stash the guns, the cops gon' come\n",
      "And we gon' say we don't know who shot at 'em\n",
      "Come on\n",
      "\n",
      "[Hook]\n",
      "All I have is my real niggas (What?)\n",
      "Get this cash with my real niggas (Come on)\n",
      "Give my last to my real niggas\n",
      "Cock back, blast, for my real niggas\n",
      "All I have is my real niggas\n",
      "Get this cash with my real niggas (Come on)\n",
      "Give my last to my real niggas (Come on)\n",
      "Cock back, blast, for my real niggas\n",
      "\n",
      "[Verse 2: Cristina]\n",
      "Y'all niggas ready for war? I'm ready\n",
      "Easy with the clip, girl, hold it steady\n",
      "Man I'm 'bout to squeeze back, cock and bust hot lyrics\n",
      "Cock back, pop, and touch y'all spirits\n",
      "Send 'em to hell, make their residence more evil\n",
      "This beat here make me wanna kill four people\n",
      "Three niggas and one hoe, turn bitches to Jane Doe\n",
      "Send 'em past rainbows, with the ankles\n",
      "Hit 'em from all angles, bring the pain though\n",
      "Blow out the candles, the show's been cancelled\n",
      "Man, y'all niggas better believe somethin'\n",
      "'Fore I squeeze somethin' and leave somethin'\n",
      "It ain't nothin' with my real niggas\n",
      "\n",
      "[Hook]\n",
      "All I have is my real niggas\n",
      "Get this cash with my real niggas (That's right)\n",
      "Give my last to my real niggas (Come on)\n",
      "Cock back, blast, for my real niggas\n",
      "All I have is my real niggas\n",
      "Get this cash with my real niggas (Come on)\n",
      "Give my last to my real niggas (Come on)\n",
      "Cock back, blast, for my real niggas\n",
      "\n",
      "[Verse 3]\n",
      "I feel like one lady, five babies and four fathers\n",
      "Six months searchin' for jobs and no offers\n",
      "No heat 'cept for the stove\n",
      "Sleep with two layers of clothes, still wakin' up cold\n",
      "I'm real, like AIDS\n",
      "Like the pain you feel when your nigga get strained\n",
      "That's why I got issues like I got pistols\n",
      "I gotta make your mama cry but I got tissues\n",
      "I confess, I'm a gangsta\n",
      "But I drop my flag, still cock back and drop a fag\n",
      "Leave him in a bag with a tag on his metatarsals\n",
      "Awfully ill, man, awfully real\n",
      "Thugged out, but I'm God's property still\n",
      "And if I up the steel, I'ma probably kill\n",
      "If not, you're paralyzed from the waist down\n",
      "Alright dog, you're the king? I'm the ace now\n",
      "Face down\n",
      "\n",
      "[Hook]\n",
      "All I have is my real niggas (You know)\n",
      "Get this cash with my real niggas\n",
      "Give my last to my real niggas (That's right)\n",
      "Cock back, blast, for my real niggas (For my real niggas)\n",
      "All I have is my real niggas (That's all I have in this world)\n",
      "Get this cash with my real niggas\n",
      "Give my last to my real niggas (Konman Productions)\n",
      "Cock back, blast, for my real niggas (Brian \"All Day\" Miller, come on)\n",
      "\n",
      "[Hook]\n",
      "All I have is my real niggas (That's right)\n",
      "Get this cash with my real niggas\n",
      "Give my last to my real niggas\n",
      "Cock back, blast, for my real niggas\n",
      "All I have is my real niggas\n",
      "Get this cash with my real niggas\n",
      "Give my last to my real niggas\n",
      "Cock back, blast, for my real niggas\n"
     ]
    }
   ],
   "source": [
    "lyrics = df['lyrics']\n",
    "lyrics = lyrics[pd.notnull(lyrics)]\n",
    "print(lyrics.loc[0])"
   ]
  },
  {
   "cell_type": "markdown",
   "metadata": {},
   "source": [
    "## Limpando Textos"
   ]
  },
  {
   "cell_type": "markdown",
   "metadata": {},
   "source": [
    "### Removendo headers ([Chorus],[Intro], [Verse]...)"
   ]
  },
  {
   "cell_type": "code",
   "execution_count": 4,
   "metadata": {
    "scrolled": true
   },
   "outputs": [],
   "source": [
    "df['lyrics_final'] = lyrics.str.replace(r\"([\\[]().*?[\\]])\" , \"\")\n",
    "\n",
    "lyrics_final = df['lyrics_final']"
   ]
  },
  {
   "cell_type": "code",
   "execution_count": 5,
   "metadata": {
    "scrolled": true
   },
   "outputs": [
    {
     "name": "stdout",
     "output_type": "stream",
     "text": [
      "\n",
      "Niggas can't be serious, man\n",
      "Yo, yo\n",
      "\n",
      "\n",
      "Yo I'm the reason metal detectors go off the meter\n",
      "'Cause I'll run through the airport with the heater\n",
      "Gets the fag at his plane, and if I miss him\n",
      "Put two in his brain at the baggage claim\n",
      "Give him... heavy sluggage, tryna get his luggage\n",
      "Send him to the crossroads, we way too thuggish\n",
      "Shit, we at odds 'til we even up\n",
      "'Til you leave on a stretcher or I leave in cuffs\n",
      "Niggas wanna live, they done breathed enough\n",
      "And I bet you next time they'll believe in us\n",
      "It don't take much brains to know we bust things\n",
      "My gat must bang, through your Mustang\n",
      "Ma ma se, ma ma sa, ma ma ku sa\n",
      "Niggas seen Kanye, red dotted them\n",
      "Hurry up, stash the guns, the cops gon' come\n",
      "And we gon' say we don't know who shot at 'em\n",
      "Come on\n",
      "\n",
      "\n",
      "All I have is my real niggas (What?)\n",
      "Get this cash with my real niggas (Come on)\n",
      "Give my last to my real niggas\n",
      "Cock back, blast, for my real niggas\n",
      "All I have is my real niggas\n",
      "Get this cash with my real niggas (Come on)\n",
      "Give my last to my real niggas (Come on)\n",
      "Cock back, blast, for my real niggas\n",
      "\n",
      "\n",
      "Y'all niggas ready for war? I'm ready\n",
      "Easy with the clip, girl, hold it steady\n",
      "Man I'm 'bout to squeeze back, cock and bust hot lyrics\n",
      "Cock back, pop, and touch y'all spirits\n",
      "Send 'em to hell, make their residence more evil\n",
      "This beat here make me wanna kill four people\n",
      "Three niggas and one hoe, turn bitches to Jane Doe\n",
      "Send 'em past rainbows, with the ankles\n",
      "Hit 'em from all angles, bring the pain though\n",
      "Blow out the candles, the show's been cancelled\n",
      "Man, y'all niggas better believe somethin'\n",
      "'Fore I squeeze somethin' and leave somethin'\n",
      "It ain't nothin' with my real niggas\n",
      "\n",
      "\n",
      "All I have is my real niggas\n",
      "Get this cash with my real niggas (That's right)\n",
      "Give my last to my real niggas (Come on)\n",
      "Cock back, blast, for my real niggas\n",
      "All I have is my real niggas\n",
      "Get this cash with my real niggas (Come on)\n",
      "Give my last to my real niggas (Come on)\n",
      "Cock back, blast, for my real niggas\n",
      "\n",
      "\n",
      "I feel like one lady, five babies and four fathers\n",
      "Six months searchin' for jobs and no offers\n",
      "No heat 'cept for the stove\n",
      "Sleep with two layers of clothes, still wakin' up cold\n",
      "I'm real, like AIDS\n",
      "Like the pain you feel when your nigga get strained\n",
      "That's why I got issues like I got pistols\n",
      "I gotta make your mama cry but I got tissues\n",
      "I confess, I'm a gangsta\n",
      "But I drop my flag, still cock back and drop a fag\n",
      "Leave him in a bag with a tag on his metatarsals\n",
      "Awfully ill, man, awfully real\n",
      "Thugged out, but I'm God's property still\n",
      "And if I up the steel, I'ma probably kill\n",
      "If not, you're paralyzed from the waist down\n",
      "Alright dog, you're the king? I'm the ace now\n",
      "Face down\n",
      "\n",
      "\n",
      "All I have is my real niggas (You know)\n",
      "Get this cash with my real niggas\n",
      "Give my last to my real niggas (That's right)\n",
      "Cock back, blast, for my real niggas (For my real niggas)\n",
      "All I have is my real niggas (That's all I have in this world)\n",
      "Get this cash with my real niggas\n",
      "Give my last to my real niggas (Konman Productions)\n",
      "Cock back, blast, for my real niggas (Brian \"All Day\" Miller, come on)\n",
      "\n",
      "\n",
      "All I have is my real niggas (That's right)\n",
      "Get this cash with my real niggas\n",
      "Give my last to my real niggas\n",
      "Cock back, blast, for my real niggas\n",
      "All I have is my real niggas\n",
      "Get this cash with my real niggas\n",
      "Give my last to my real niggas\n",
      "Cock back, blast, for my real niggas\n"
     ]
    }
   ],
   "source": [
    "print(lyrics_final.loc[0])"
   ]
  },
  {
   "cell_type": "code",
   "execution_count": 6,
   "metadata": {
    "scrolled": true
   },
   "outputs": [
    {
     "data": {
      "text/html": [
       "<div>\n",
       "<style scoped>\n",
       "    .dataframe tbody tr th:only-of-type {\n",
       "        vertical-align: middle;\n",
       "    }\n",
       "\n",
       "    .dataframe tbody tr th {\n",
       "        vertical-align: top;\n",
       "    }\n",
       "\n",
       "    .dataframe thead th {\n",
       "        text-align: right;\n",
       "    }\n",
       "</style>\n",
       "<table border=\"1\" class=\"dataframe\">\n",
       "  <thead>\n",
       "    <tr style=\"text-align: right;\">\n",
       "      <th></th>\n",
       "      <th>music_title</th>\n",
       "      <th>lyrics</th>\n",
       "      <th>year</th>\n",
       "      <th>album</th>\n",
       "      <th>lyrics_final</th>\n",
       "    </tr>\n",
       "  </thead>\n",
       "  <tbody>\n",
       "    <tr>\n",
       "      <th>0</th>\n",
       "      <td>All I Need (All I Have)</td>\n",
       "      <td>[Intro]\\nNiggas can't be serious, man\\nYo, yo\\...</td>\n",
       "      <td>NaN</td>\n",
       "      <td>World Record Holders</td>\n",
       "      <td>\\nNiggas can't be serious, man\\nYo, yo\\n\\n\\nYo...</td>\n",
       "    </tr>\n",
       "    <tr>\n",
       "      <th>1</th>\n",
       "      <td>Message In A Bottle Freestyle</td>\n",
       "      <td>Uh, uh, uh\\nYeah, yeah, yeah\\nPut your hands i...</td>\n",
       "      <td>2007-01-01</td>\n",
       "      <td>NaN</td>\n",
       "      <td>Uh, uh, uh\\nYeah, yeah, yeah\\nPut your hands i...</td>\n",
       "    </tr>\n",
       "    <tr>\n",
       "      <th>2</th>\n",
       "      <td>Intro (I’m Good)</td>\n",
       "      <td>[John Legend]\\nOh oh oh oh, I'm good, so good\\...</td>\n",
       "      <td>NaN</td>\n",
       "      <td>I’m Good</td>\n",
       "      <td>\\nOh oh oh oh, I'm good, so good\\nEven better ...</td>\n",
       "    </tr>\n",
       "    <tr>\n",
       "      <th>3</th>\n",
       "      <td>Stronger</td>\n",
       "      <td>[Produced by Kanye West, Mike Dean, and Timbal...</td>\n",
       "      <td>2007-07-31</td>\n",
       "      <td>Graduation</td>\n",
       "      <td>\\n\\n\\nWork it, make it, do it, makes us\\nHarde...</td>\n",
       "    </tr>\n",
       "    <tr>\n",
       "      <th>4</th>\n",
       "      <td>On Bonnaroo Music Festival</td>\n",
       "      <td>Last time I got here, before I even arrived, t...</td>\n",
       "      <td>2014-06-13</td>\n",
       "      <td>Kanye West’s Visionary Streams of Consciousness</td>\n",
       "      <td>Last time I got here, before I even arrived, t...</td>\n",
       "    </tr>\n",
       "  </tbody>\n",
       "</table>\n",
       "</div>"
      ],
      "text/plain": [
       "                     music_title  \\\n",
       "0        All I Need (All I Have)   \n",
       "1  Message In A Bottle Freestyle   \n",
       "2               Intro (I’m Good)   \n",
       "3                       Stronger   \n",
       "4     On Bonnaroo Music Festival   \n",
       "\n",
       "                                              lyrics        year  \\\n",
       "0  [Intro]\\nNiggas can't be serious, man\\nYo, yo\\...         NaN   \n",
       "1  Uh, uh, uh\\nYeah, yeah, yeah\\nPut your hands i...  2007-01-01   \n",
       "2  [John Legend]\\nOh oh oh oh, I'm good, so good\\...         NaN   \n",
       "3  [Produced by Kanye West, Mike Dean, and Timbal...  2007-07-31   \n",
       "4  Last time I got here, before I even arrived, t...  2014-06-13   \n",
       "\n",
       "                                             album  \\\n",
       "0                             World Record Holders   \n",
       "1                                              NaN   \n",
       "2                                         I’m Good   \n",
       "3                                       Graduation   \n",
       "4  Kanye West’s Visionary Streams of Consciousness   \n",
       "\n",
       "                                        lyrics_final  \n",
       "0  \\nNiggas can't be serious, man\\nYo, yo\\n\\n\\nYo...  \n",
       "1  Uh, uh, uh\\nYeah, yeah, yeah\\nPut your hands i...  \n",
       "2  \\nOh oh oh oh, I'm good, so good\\nEven better ...  \n",
       "3  \\n\\n\\nWork it, make it, do it, makes us\\nHarde...  \n",
       "4  Last time I got here, before I even arrived, t...  "
      ]
     },
     "execution_count": 6,
     "metadata": {},
     "output_type": "execute_result"
    }
   ],
   "source": [
    "df.head()"
   ]
  },
  {
   "cell_type": "markdown",
   "metadata": {},
   "source": [
    "### Eliminando Nulls"
   ]
  },
  {
   "cell_type": "code",
   "execution_count": 21,
   "metadata": {},
   "outputs": [
    {
     "data": {
      "text/plain": [
       "music_title       0\n",
       "lyrics           12\n",
       "year            215\n",
       "album           233\n",
       "lyrics_final     12\n",
       "dtype: int64"
      ]
     },
     "execution_count": 21,
     "metadata": {},
     "output_type": "execute_result"
    }
   ],
   "source": [
    "df.isnull().sum()"
   ]
  },
  {
   "cell_type": "code",
   "execution_count": 38,
   "metadata": {},
   "outputs": [
    {
     "name": "stdout",
     "output_type": "stream",
     "text": [
      "Original: (503, 5)\n",
      "Drop Duplicates: (503, 5)\n",
      "Drop Nulls: (491, 5)\n"
     ]
    }
   ],
   "source": [
    "print(\"Original:\", df.shape)\n",
    "lyrics_without_duplicates = df.drop_duplicates()\n",
    "lyrics_wd = lyrics_without_duplicates.reset_index(drop=True)\n",
    "print(\"Drop Duplicates:\", lyrics_wd.shape)\n",
    "lyrics_wd_dn = lyrics_wd.dropna(subset=['lyrics_final'])\n",
    "df = lyrics_wd_dn.reset_index(drop=True)\n",
    "print(\"Drop Nulls:\", df.shape)"
   ]
  },
  {
   "cell_type": "code",
   "execution_count": 39,
   "metadata": {
    "scrolled": false
   },
   "outputs": [
    {
     "data": {
      "text/html": [
       "<div>\n",
       "<style scoped>\n",
       "    .dataframe tbody tr th:only-of-type {\n",
       "        vertical-align: middle;\n",
       "    }\n",
       "\n",
       "    .dataframe tbody tr th {\n",
       "        vertical-align: top;\n",
       "    }\n",
       "\n",
       "    .dataframe thead th {\n",
       "        text-align: right;\n",
       "    }\n",
       "</style>\n",
       "<table border=\"1\" class=\"dataframe\">\n",
       "  <thead>\n",
       "    <tr style=\"text-align: right;\">\n",
       "      <th></th>\n",
       "      <th>index</th>\n",
       "      <th>music_title</th>\n",
       "      <th>lyrics</th>\n",
       "      <th>year</th>\n",
       "      <th>album</th>\n",
       "      <th>lyrics_final</th>\n",
       "    </tr>\n",
       "  </thead>\n",
       "  <tbody>\n",
       "    <tr>\n",
       "      <th>0</th>\n",
       "      <td>0</td>\n",
       "      <td>All I Need (All I Have)</td>\n",
       "      <td>[Intro]\\nNiggas can't be serious, man\\nYo, yo\\...</td>\n",
       "      <td>NaN</td>\n",
       "      <td>World Record Holders</td>\n",
       "      <td>\\nNiggas can't be serious, man\\nYo, yo\\n\\n\\nYo...</td>\n",
       "    </tr>\n",
       "    <tr>\n",
       "      <th>1</th>\n",
       "      <td>1</td>\n",
       "      <td>Message In A Bottle Freestyle</td>\n",
       "      <td>Uh, uh, uh\\nYeah, yeah, yeah\\nPut your hands i...</td>\n",
       "      <td>2007-01-01</td>\n",
       "      <td>NaN</td>\n",
       "      <td>Uh, uh, uh\\nYeah, yeah, yeah\\nPut your hands i...</td>\n",
       "    </tr>\n",
       "    <tr>\n",
       "      <th>2</th>\n",
       "      <td>2</td>\n",
       "      <td>Intro (I’m Good)</td>\n",
       "      <td>[John Legend]\\nOh oh oh oh, I'm good, so good\\...</td>\n",
       "      <td>NaN</td>\n",
       "      <td>I’m Good</td>\n",
       "      <td>\\nOh oh oh oh, I'm good, so good\\nEven better ...</td>\n",
       "    </tr>\n",
       "    <tr>\n",
       "      <th>3</th>\n",
       "      <td>3</td>\n",
       "      <td>Stronger</td>\n",
       "      <td>[Produced by Kanye West, Mike Dean, and Timbal...</td>\n",
       "      <td>2007-07-31</td>\n",
       "      <td>Graduation</td>\n",
       "      <td>\\n\\n\\nWork it, make it, do it, makes us\\nHarde...</td>\n",
       "    </tr>\n",
       "    <tr>\n",
       "      <th>4</th>\n",
       "      <td>4</td>\n",
       "      <td>On Bonnaroo Music Festival</td>\n",
       "      <td>Last time I got here, before I even arrived, t...</td>\n",
       "      <td>2014-06-13</td>\n",
       "      <td>Kanye West’s Visionary Streams of Consciousness</td>\n",
       "      <td>Last time I got here, before I even arrived, t...</td>\n",
       "    </tr>\n",
       "  </tbody>\n",
       "</table>\n",
       "</div>"
      ],
      "text/plain": [
       "   index                    music_title  \\\n",
       "0      0        All I Need (All I Have)   \n",
       "1      1  Message In A Bottle Freestyle   \n",
       "2      2               Intro (I’m Good)   \n",
       "3      3                       Stronger   \n",
       "4      4     On Bonnaroo Music Festival   \n",
       "\n",
       "                                              lyrics        year  \\\n",
       "0  [Intro]\\nNiggas can't be serious, man\\nYo, yo\\...         NaN   \n",
       "1  Uh, uh, uh\\nYeah, yeah, yeah\\nPut your hands i...  2007-01-01   \n",
       "2  [John Legend]\\nOh oh oh oh, I'm good, so good\\...         NaN   \n",
       "3  [Produced by Kanye West, Mike Dean, and Timbal...  2007-07-31   \n",
       "4  Last time I got here, before I even arrived, t...  2014-06-13   \n",
       "\n",
       "                                             album  \\\n",
       "0                             World Record Holders   \n",
       "1                                              NaN   \n",
       "2                                         I’m Good   \n",
       "3                                       Graduation   \n",
       "4  Kanye West’s Visionary Streams of Consciousness   \n",
       "\n",
       "                                        lyrics_final  \n",
       "0  \\nNiggas can't be serious, man\\nYo, yo\\n\\n\\nYo...  \n",
       "1  Uh, uh, uh\\nYeah, yeah, yeah\\nPut your hands i...  \n",
       "2  \\nOh oh oh oh, I'm good, so good\\nEven better ...  \n",
       "3  \\n\\n\\nWork it, make it, do it, makes us\\nHarde...  \n",
       "4  Last time I got here, before I even arrived, t...  "
      ]
     },
     "execution_count": 39,
     "metadata": {},
     "output_type": "execute_result"
    }
   ],
   "source": [
    "lyrics_null.head()"
   ]
  },
  {
   "cell_type": "markdown",
   "metadata": {},
   "source": [
    "### Tokenização"
   ]
  },
  {
   "cell_type": "code",
   "execution_count": 41,
   "metadata": {
    "scrolled": true
   },
   "outputs": [
    {
     "name": "stdout",
     "output_type": "stream",
     "text": [
      "['Niggas', 'ca', \"n't\", 'be', 'serious', ',', 'man', 'Yo', ',', 'yo', 'Yo', 'I', \"'m\", 'the', 'reason', 'metal', 'detectors', 'go', 'off', 'the', 'meter', \"'Cause\", 'I', \"'ll\", 'run', 'through', 'the', 'airport', 'with', 'the', 'heater', 'Gets', 'the', 'fag', 'at', 'his', 'plane', ',', 'and', 'if', 'I', 'miss', 'him', 'Put', 'two', 'in', 'his', 'brain', 'at', 'the', 'baggage', 'claim', 'Give', 'him', '...', 'heavy', 'sluggage', ',', 'tryna', 'get', 'his', 'luggage', 'Send', 'him', 'to', 'the', 'crossroads', ',', 'we', 'way', 'too', 'thuggish', 'Shit', ',', 'we', 'at', 'odds', \"'til\", 'we', 'even', 'up', \"'Til\", 'you', 'leave', 'on', 'a', 'stretcher', 'or', 'I', 'leave', 'in', 'cuffs', 'Niggas', 'wan', 'na', 'live', ',', 'they', 'done', 'breathed', 'enough', 'And', 'I', 'bet', 'you', 'next', 'time', 'they', \"'ll\", 'believe', 'in', 'us', 'It', 'do', \"n't\", 'take', 'much', 'brains', 'to', 'know', 'we', 'bust', 'things', 'My', 'gat', 'must', 'bang', ',', 'through', 'your', 'Mustang', 'Ma', 'ma', 'se', ',', 'ma', 'ma', 'sa', ',', 'ma', 'ma', 'ku', 'sa', 'Niggas', 'seen', 'Kanye', ',', 'red', 'dotted', 'them', 'Hurry', 'up', ',', 'stash', 'the', 'guns', ',', 'the', 'cops', 'gon', \"'\", 'come', 'And', 'we', 'gon', \"'\", 'say', 'we', 'do', \"n't\", 'know', 'who', 'shot', 'at', \"'em\", 'Come', 'on', 'All', 'I', 'have', 'is', 'my', 'real', 'niggas', '(', 'What', '?', ')', 'Get', 'this', 'cash', 'with', 'my', 'real', 'niggas', '(', 'Come', 'on', ')', 'Give', 'my', 'last', 'to', 'my', 'real', 'niggas', 'Cock', 'back', ',', 'blast', ',', 'for', 'my', 'real', 'niggas', 'All', 'I', 'have', 'is', 'my', 'real', 'niggas', 'Get', 'this', 'cash', 'with', 'my', 'real', 'niggas', '(', 'Come', 'on', ')', 'Give', 'my', 'last', 'to', 'my', 'real', 'niggas', '(', 'Come', 'on', ')', 'Cock', 'back', ',', 'blast', ',', 'for', 'my', 'real', 'niggas', \"Y'all\", 'niggas', 'ready', 'for', 'war', '?', 'I', \"'m\", 'ready', 'Easy', 'with', 'the', 'clip', ',', 'girl', ',', 'hold', 'it', 'steady', 'Man', 'I', \"'m\", \"'bout\", 'to', 'squeeze', 'back', ',', 'cock', 'and', 'bust', 'hot', 'lyrics', 'Cock', 'back', ',', 'pop', ',', 'and', 'touch', \"y'all\", 'spirits', 'Send', \"'em\", 'to', 'hell', ',', 'make', 'their', 'residence', 'more', 'evil', 'This', 'beat', 'here', 'make', 'me', 'wan', 'na', 'kill', 'four', 'people', 'Three', 'niggas', 'and', 'one', 'hoe', ',', 'turn', 'bitches', 'to', 'Jane', 'Doe', 'Send', \"'em\", 'past', 'rainbows', ',', 'with', 'the', 'ankles', 'Hit', \"'em\", 'from', 'all', 'angles', ',', 'bring', 'the', 'pain', 'though', 'Blow', 'out', 'the', 'candles', ',', 'the', 'show', \"'s\", 'been', 'cancelled', 'Man', ',', \"y'all\", 'niggas', 'better', 'believe', \"somethin'\", \"'Fore\", 'I', 'squeeze', 'somethin', \"'\", 'and', 'leave', \"somethin'\", 'It', 'ai', \"n't\", 'nothin', \"'\", 'with', 'my', 'real', 'niggas', 'All', 'I', 'have', 'is', 'my', 'real', 'niggas', 'Get', 'this', 'cash', 'with', 'my', 'real', 'niggas', '(', 'That', \"'s\", 'right', ')', 'Give', 'my', 'last', 'to', 'my', 'real', 'niggas', '(', 'Come', 'on', ')', 'Cock', 'back', ',', 'blast', ',', 'for', 'my', 'real', 'niggas', 'All', 'I', 'have', 'is', 'my', 'real', 'niggas', 'Get', 'this', 'cash', 'with', 'my', 'real', 'niggas', '(', 'Come', 'on', ')', 'Give', 'my', 'last', 'to', 'my', 'real', 'niggas', '(', 'Come', 'on', ')', 'Cock', 'back', ',', 'blast', ',', 'for', 'my', 'real', 'niggas', 'I', 'feel', 'like', 'one', 'lady', ',', 'five', 'babies', 'and', 'four', 'fathers', 'Six', 'months', 'searchin', \"'\", 'for', 'jobs', 'and', 'no', 'offers', 'No', 'heat', \"'cept\", 'for', 'the', 'stove', 'Sleep', 'with', 'two', 'layers', 'of', 'clothes', ',', 'still', 'wakin', \"'\", 'up', 'cold', 'I', \"'m\", 'real', ',', 'like', 'AIDS', 'Like', 'the', 'pain', 'you', 'feel', 'when', 'your', 'nigga', 'get', 'strained', 'That', \"'s\", 'why', 'I', 'got', 'issues', 'like', 'I', 'got', 'pistols', 'I', 'got', 'ta', 'make', 'your', 'mama', 'cry', 'but', 'I', 'got', 'tissues', 'I', 'confess', ',', 'I', \"'m\", 'a', 'gangsta', 'But', 'I', 'drop', 'my', 'flag', ',', 'still', 'cock', 'back', 'and', 'drop', 'a', 'fag', 'Leave', 'him', 'in', 'a', 'bag', 'with', 'a', 'tag', 'on', 'his', 'metatarsals', 'Awfully', 'ill', ',', 'man', ',', 'awfully', 'real', 'Thugged', 'out', ',', 'but', 'I', \"'m\", 'God', \"'s\", 'property', 'still', 'And', 'if', 'I', 'up', 'the', 'steel', ',', \"I'ma\", 'probably', 'kill', 'If', 'not', ',', 'you', \"'re\", 'paralyzed', 'from', 'the', 'waist', 'down', 'Alright', 'dog', ',', 'you', \"'re\", 'the', 'king', '?', 'I', \"'m\", 'the', 'ace', 'now', 'Face', 'down', 'All', 'I', 'have', 'is', 'my', 'real', 'niggas', '(', 'You', 'know', ')', 'Get', 'this', 'cash', 'with', 'my', 'real', 'niggas', 'Give', 'my', 'last', 'to', 'my', 'real', 'niggas', '(', 'That', \"'s\", 'right', ')', 'Cock', 'back', ',', 'blast', ',', 'for', 'my', 'real', 'niggas', '(', 'For', 'my', 'real', 'niggas', ')', 'All', 'I', 'have', 'is', 'my', 'real', 'niggas', '(', 'That', \"'s\", 'all', 'I', 'have', 'in', 'this', 'world', ')', 'Get', 'this', 'cash', 'with', 'my', 'real', 'niggas', 'Give', 'my', 'last', 'to', 'my', 'real', 'niggas', '(', 'Konman', 'Productions', ')', 'Cock', 'back', ',', 'blast', ',', 'for', 'my', 'real', 'niggas', '(', 'Brian', '``', 'All', 'Day', \"''\", 'Miller', ',', 'come', 'on', ')', 'All', 'I', 'have', 'is', 'my', 'real', 'niggas', '(', 'That', \"'s\", 'right', ')', 'Get', 'this', 'cash', 'with', 'my', 'real', 'niggas', 'Give', 'my', 'last', 'to', 'my', 'real', 'niggas', 'Cock', 'back', ',', 'blast', ',', 'for', 'my', 'real', 'niggas', 'All', 'I', 'have', 'is', 'my', 'real', 'niggas', 'Get', 'this', 'cash', 'with', 'my', 'real', 'niggas', 'Give', 'my', 'last', 'to', 'my', 'real', 'niggas', 'Cock', 'back', ',', 'blast', ',', 'for', 'my', 'real', 'niggas']\n"
     ]
    }
   ],
   "source": [
    "from nltk.tokenize import word_tokenize\n",
    "tokens = word_tokenize(df.lyrics_final[0])\n",
    "print(tokens)"
   ]
  },
  {
   "cell_type": "markdown",
   "metadata": {},
   "source": [
    "### Stopwords"
   ]
  },
  {
   "cell_type": "code",
   "execution_count": 43,
   "metadata": {
    "scrolled": true
   },
   "outputs": [
    {
     "name": "stdout",
     "output_type": "stream",
     "text": [
      "['Niggas', 'ca', \"n't\", 'serious', ',', 'man', 'Yo', ',', 'yo', 'Yo', 'I', \"'m\", 'reason', 'metal', 'detectors', 'go', 'meter', \"'Cause\", 'I', \"'ll\", 'run', 'airport', 'heater', 'Gets', 'fag', 'plane', ',', 'I', 'miss', 'Put', 'two', 'brain', 'baggage', 'claim', 'Give', '...', 'heavy', 'sluggage', ',', 'tryna', 'get', 'luggage', 'Send', 'crossroads', ',', 'way', 'thuggish', 'Shit', ',', 'odds', \"'til\", 'even', \"'Til\", 'leave', 'stretcher', 'I', 'leave', 'cuffs', 'Niggas', 'wan', 'na', 'live', ',', 'done', 'breathed', 'enough', 'And', 'I', 'bet', 'next', 'time', \"'ll\", 'believe', 'us', 'It', \"n't\", 'take', 'much', 'brains', 'know', 'bust', 'things', 'My', 'gat', 'must', 'bang', ',', 'Mustang', 'Ma', 'se', ',', 'sa', ',', 'ku', 'sa', 'Niggas', 'seen', 'Kanye', ',', 'red', 'dotted', 'Hurry', ',', 'stash', 'guns', ',', 'cops', 'gon', \"'\", 'come', 'And', 'gon', \"'\", 'say', \"n't\", 'know', 'shot', \"'em\", 'Come', 'All', 'I', 'real', 'niggas', '(', 'What', '?', ')', 'Get', 'cash', 'real', 'niggas', '(', 'Come', ')', 'Give', 'last', 'real', 'niggas', 'Cock', 'back', ',', 'blast', ',', 'real', 'niggas', 'All', 'I', 'real', 'niggas', 'Get', 'cash', 'real', 'niggas', '(', 'Come', ')', 'Give', 'last', 'real', 'niggas', '(', 'Come', ')', 'Cock', 'back', ',', 'blast', ',', 'real', 'niggas', \"Y'all\", 'niggas', 'ready', 'war', '?', 'I', \"'m\", 'ready', 'Easy', 'clip', ',', 'girl', ',', 'hold', 'steady', 'Man', 'I', \"'m\", \"'bout\", 'squeeze', 'back', ',', 'cock', 'bust', 'hot', 'lyrics', 'Cock', 'back', ',', 'pop', ',', 'touch', \"y'all\", 'spirits', 'Send', \"'em\", 'hell', ',', 'make', 'residence', 'evil', 'This', 'beat', 'make', 'wan', 'na', 'kill', 'four', 'people', 'Three', 'niggas', 'one', 'hoe', ',', 'turn', 'bitches', 'Jane', 'Doe', 'Send', \"'em\", 'past', 'rainbows', ',', 'ankles', 'Hit', \"'em\", 'angles', ',', 'bring', 'pain', 'though', 'Blow', 'candles', ',', 'show', \"'s\", 'cancelled', 'Man', ',', \"y'all\", 'niggas', 'better', 'believe', \"somethin'\", \"'Fore\", 'I', 'squeeze', 'somethin', \"'\", 'leave', \"somethin'\", 'It', 'ai', \"n't\", 'nothin', \"'\", 'real', 'niggas', 'All', 'I', 'real', 'niggas', 'Get', 'cash', 'real', 'niggas', '(', 'That', \"'s\", 'right', ')', 'Give', 'last', 'real', 'niggas', '(', 'Come', ')', 'Cock', 'back', ',', 'blast', ',', 'real', 'niggas', 'All', 'I', 'real', 'niggas', 'Get', 'cash', 'real', 'niggas', '(', 'Come', ')', 'Give', 'last', 'real', 'niggas', '(', 'Come', ')', 'Cock', 'back', ',', 'blast', ',', 'real', 'niggas', 'I', 'feel', 'like', 'one', 'lady', ',', 'five', 'babies', 'four', 'fathers', 'Six', 'months', 'searchin', \"'\", 'jobs', 'offers', 'No', 'heat', \"'cept\", 'stove', 'Sleep', 'two', 'layers', 'clothes', ',', 'still', 'wakin', \"'\", 'cold', 'I', \"'m\", 'real', ',', 'like', 'AIDS', 'Like', 'pain', 'feel', 'nigga', 'get', 'strained', 'That', \"'s\", 'I', 'got', 'issues', 'like', 'I', 'got', 'pistols', 'I', 'got', 'ta', 'make', 'mama', 'cry', 'I', 'got', 'tissues', 'I', 'confess', ',', 'I', \"'m\", 'gangsta', 'But', 'I', 'drop', 'flag', ',', 'still', 'cock', 'back', 'drop', 'fag', 'Leave', 'bag', 'tag', 'metatarsals', 'Awfully', 'ill', ',', 'man', ',', 'awfully', 'real', 'Thugged', ',', 'I', \"'m\", 'God', \"'s\", 'property', 'still', 'And', 'I', 'steel', ',', \"I'ma\", 'probably', 'kill', 'If', ',', \"'re\", 'paralyzed', 'waist', 'Alright', 'dog', ',', \"'re\", 'king', '?', 'I', \"'m\", 'ace', 'Face', 'All', 'I', 'real', 'niggas', '(', 'You', 'know', ')', 'Get', 'cash', 'real', 'niggas', 'Give', 'last', 'real', 'niggas', '(', 'That', \"'s\", 'right', ')', 'Cock', 'back', ',', 'blast', ',', 'real', 'niggas', '(', 'For', 'real', 'niggas', ')', 'All', 'I', 'real', 'niggas', '(', 'That', \"'s\", 'I', 'world', ')', 'Get', 'cash', 'real', 'niggas', 'Give', 'last', 'real', 'niggas', '(', 'Konman', 'Productions', ')', 'Cock', 'back', ',', 'blast', ',', 'real', 'niggas', '(', 'Brian', '``', 'All', 'Day', \"''\", 'Miller', ',', 'come', ')', 'All', 'I', 'real', 'niggas', '(', 'That', \"'s\", 'right', ')', 'Get', 'cash', 'real', 'niggas', 'Give', 'last', 'real', 'niggas', 'Cock', 'back', ',', 'blast', ',', 'real', 'niggas', 'All', 'I', 'real', 'niggas', 'Get', 'cash', 'real', 'niggas', 'Give', 'last', 'real', 'niggas', 'Cock', 'back', ',', 'blast', ',', 'real', 'niggas']\n"
     ]
    }
   ],
   "source": [
    "from nltk.corpus import stopwords\n",
    "stop_words = stopwords.words('english')\n",
    "\n",
    "print( [i for i in tokens if i not in stop_words])"
   ]
  },
  {
   "cell_type": "markdown",
   "metadata": {},
   "source": [
    "## Normalização das músicas"
   ]
  },
  {
   "cell_type": "markdown",
   "metadata": {},
   "source": [
    "### Conversão para caixa baixa"
   ]
  },
  {
   "cell_type": "code",
   "execution_count": 44,
   "metadata": {
    "scrolled": true
   },
   "outputs": [
    {
     "data": {
      "text/plain": [
       "'\\nNiggas can\\'t be serious, man\\nYo, yo\\n\\n\\nYo I\\'m the reason metal detectors go off the meter\\n\\'Cause I\\'ll run through the airport with the heater\\nGets the fag at his plane, and if I miss him\\nPut two in his brain at the baggage claim\\nGive him... heavy sluggage, tryna get his luggage\\nSend him to the crossroads, we way too thuggish\\nShit, we at odds \\'til we even up\\n\\'Til you leave on a stretcher or I leave in cuffs\\nNiggas wanna live, they done breathed enough\\nAnd I bet you next time they\\'ll believe in us\\nIt don\\'t take much brains to know we bust things\\nMy gat must bang, through your Mustang\\nMa ma se, ma ma sa, ma ma ku sa\\nNiggas seen Kanye, red dotted them\\nHurry up, stash the guns, the cops gon\\' come\\nAnd we gon\\' say we don\\'t know who shot at \\'em\\nCome on\\n\\n\\nAll I have is my real niggas (What?)\\nGet this cash with my real niggas (Come on)\\nGive my last to my real niggas\\nCock back, blast, for my real niggas\\nAll I have is my real niggas\\nGet this cash with my real niggas (Come on)\\nGive my last to my real niggas (Come on)\\nCock back, blast, for my real niggas\\n\\n\\nY\\'all niggas ready for war? I\\'m ready\\nEasy with the clip, girl, hold it steady\\nMan I\\'m \\'bout to squeeze back, cock and bust hot lyrics\\nCock back, pop, and touch y\\'all spirits\\nSend \\'em to hell, make their residence more evil\\nThis beat here make me wanna kill four people\\nThree niggas and one hoe, turn bitches to Jane Doe\\nSend \\'em past rainbows, with the ankles\\nHit \\'em from all angles, bring the pain though\\nBlow out the candles, the show\\'s been cancelled\\nMan, y\\'all niggas better believe somethin\\'\\n\\'Fore I squeeze somethin\\' and leave somethin\\'\\nIt ain\\'t nothin\\' with my real niggas\\n\\n\\nAll I have is my real niggas\\nGet this cash with my real niggas (That\\'s right)\\nGive my last to my real niggas (Come on)\\nCock back, blast, for my real niggas\\nAll I have is my real niggas\\nGet this cash with my real niggas (Come on)\\nGive my last to my real niggas (Come on)\\nCock back, blast, for my real niggas\\n\\n\\nI feel like one lady, five babies and four fathers\\nSix months searchin\\' for jobs and no offers\\nNo heat \\'cept for the stove\\nSleep with two layers of clothes, still wakin\\' up cold\\nI\\'m real, like AIDS\\nLike the pain you feel when your nigga get strained\\nThat\\'s why I got issues like I got pistols\\nI gotta make your mama cry but I got tissues\\nI confess, I\\'m a gangsta\\nBut I drop my flag, still cock back and drop a fag\\nLeave him in a bag with a tag on his metatarsals\\nAwfully ill, man, awfully real\\nThugged out, but I\\'m God\\'s property still\\nAnd if I up the steel, I\\'ma probably kill\\nIf not, you\\'re paralyzed from the waist down\\nAlright dog, you\\'re the king? I\\'m the ace now\\nFace down\\n\\n\\nAll I have is my real niggas (You know)\\nGet this cash with my real niggas\\nGive my last to my real niggas (That\\'s right)\\nCock back, blast, for my real niggas (For my real niggas)\\nAll I have is my real niggas (That\\'s all I have in this world)\\nGet this cash with my real niggas\\nGive my last to my real niggas (Konman Productions)\\nCock back, blast, for my real niggas (Brian \"All Day\" Miller, come on)\\n\\n\\nAll I have is my real niggas (That\\'s right)\\nGet this cash with my real niggas\\nGive my last to my real niggas\\nCock back, blast, for my real niggas\\nAll I have is my real niggas\\nGet this cash with my real niggas\\nGive my last to my real niggas\\nCock back, blast, for my real niggas'"
      ]
     },
     "execution_count": 44,
     "metadata": {},
     "output_type": "execute_result"
    }
   ],
   "source": [
    "df.lyrics_final[0]"
   ]
  },
  {
   "cell_type": "markdown",
   "metadata": {},
   "source": [
    "### Conversão de apostrofes"
   ]
  },
  {
   "cell_type": "markdown",
   "metadata": {},
   "source": [
    "### Removendo caracteres especiais e numéricos"
   ]
  },
  {
   "cell_type": "markdown",
   "metadata": {},
   "source": [
    "## Lemmatização"
   ]
  },
  {
   "cell_type": "markdown",
   "metadata": {},
   "source": [
    "## Separando dados para treinamento e teste"
   ]
  },
  {
   "cell_type": "code",
   "execution_count": 28,
   "metadata": {},
   "outputs": [],
   "source": [
    "from sklearn.linear_model import LogisticRegression\n",
    "from sklearn.metrics import accuracy_score\n",
    "from sklearn.model_selection import train_test_split\n",
    "from sklearn.feature_extraction.text import CountVectorizer"
   ]
  },
  {
   "cell_type": "code",
   "execution_count": 29,
   "metadata": {},
   "outputs": [],
   "source": [
    "y=lyrics_null\n",
    "x=lyrics_null.drop('lyrics_final',axis=1) "
   ]
  },
  {
   "cell_type": "code",
   "execution_count": 30,
   "metadata": {
    "scrolled": true
   },
   "outputs": [
    {
     "data": {
      "text/html": [
       "<div>\n",
       "<style scoped>\n",
       "    .dataframe tbody tr th:only-of-type {\n",
       "        vertical-align: middle;\n",
       "    }\n",
       "\n",
       "    .dataframe tbody tr th {\n",
       "        vertical-align: top;\n",
       "    }\n",
       "\n",
       "    .dataframe thead th {\n",
       "        text-align: right;\n",
       "    }\n",
       "</style>\n",
       "<table border=\"1\" class=\"dataframe\">\n",
       "  <thead>\n",
       "    <tr style=\"text-align: right;\">\n",
       "      <th></th>\n",
       "      <th>index</th>\n",
       "      <th>music_title</th>\n",
       "      <th>lyrics</th>\n",
       "      <th>year</th>\n",
       "      <th>album</th>\n",
       "    </tr>\n",
       "  </thead>\n",
       "  <tbody>\n",
       "    <tr>\n",
       "      <th>67</th>\n",
       "      <td>67</td>\n",
       "      <td>The Morning</td>\n",
       "      <td>[Produced by !llmind, co-produced by Kanye Wes...</td>\n",
       "      <td>2012-09-14</td>\n",
       "      <td>Kanye West Presents Good Music Cruel Summer</td>\n",
       "    </tr>\n",
       "    <tr>\n",
       "      <th>146</th>\n",
       "      <td>149</td>\n",
       "      <td>“We’ll Find a Way” (Unreleased/Sunday Service)</td>\n",
       "      <td>[Verse 1]\\nThere's been a lot of change in my ...</td>\n",
       "      <td>NaN</td>\n",
       "      <td>NaN</td>\n",
       "    </tr>\n",
       "    <tr>\n",
       "      <th>348</th>\n",
       "      <td>355</td>\n",
       "      <td>My Way</td>\n",
       "      <td>[Hook]\\nI've lived\\nYes I've lived a life that...</td>\n",
       "      <td>NaN</td>\n",
       "      <td>Get Well Soon...</td>\n",
       "    </tr>\n",
       "    <tr>\n",
       "      <th>166</th>\n",
       "      <td>169</td>\n",
       "      <td>MTV VMAs 2015: Vanguard Acceptance Speech</td>\n",
       "      <td>Bro. Bro. Listen to the kids. Jeremy, I need, ...</td>\n",
       "      <td>2015-08-30</td>\n",
       "      <td>NaN</td>\n",
       "    </tr>\n",
       "    <tr>\n",
       "      <th>340</th>\n",
       "      <td>347</td>\n",
       "      <td>On Achievement and Creativity</td>\n",
       "      <td>Don’t let nobody tell you what you can do, wha...</td>\n",
       "      <td>2014-07-04</td>\n",
       "      <td>Kanye West’s Visionary Streams of Consciousness</td>\n",
       "    </tr>\n",
       "  </tbody>\n",
       "</table>\n",
       "</div>"
      ],
      "text/plain": [
       "     index                                     music_title  \\\n",
       "67      67                                     The Morning   \n",
       "146    149  “We’ll Find a Way” (Unreleased/Sunday Service)   \n",
       "348    355                                          My Way   \n",
       "166    169       MTV VMAs 2015: Vanguard Acceptance Speech   \n",
       "340    347                   On Achievement and Creativity   \n",
       "\n",
       "                                                lyrics        year  \\\n",
       "67   [Produced by !llmind, co-produced by Kanye Wes...  2012-09-14   \n",
       "146  [Verse 1]\\nThere's been a lot of change in my ...         NaN   \n",
       "348  [Hook]\\nI've lived\\nYes I've lived a life that...         NaN   \n",
       "166  Bro. Bro. Listen to the kids. Jeremy, I need, ...  2015-08-30   \n",
       "340  Don’t let nobody tell you what you can do, wha...  2014-07-04   \n",
       "\n",
       "                                               album  \n",
       "67       Kanye West Presents Good Music Cruel Summer  \n",
       "146                                              NaN  \n",
       "348                                 Get Well Soon...  \n",
       "166                                              NaN  \n",
       "340  Kanye West’s Visionary Streams of Consciousness  "
      ]
     },
     "execution_count": 30,
     "metadata": {},
     "output_type": "execute_result"
    }
   ],
   "source": [
    "x_train,x_test,y_train,y_test=train_test_split(x,y,test_size=0.2)\n",
    "x_train.head()"
   ]
  },
  {
   "cell_type": "code",
   "execution_count": 31,
   "metadata": {},
   "outputs": [
    {
     "data": {
      "text/plain": [
       "(392, 5)"
      ]
     },
     "execution_count": 31,
     "metadata": {},
     "output_type": "execute_result"
    }
   ],
   "source": [
    "x_train.shape"
   ]
  },
  {
   "cell_type": "code",
   "execution_count": 32,
   "metadata": {},
   "outputs": [
    {
     "data": {
      "text/plain": [
       "(392, 6)"
      ]
     },
     "execution_count": 32,
     "metadata": {},
     "output_type": "execute_result"
    }
   ],
   "source": [
    "y_train.shape"
   ]
  },
  {
   "cell_type": "code",
   "execution_count": 33,
   "metadata": {
    "scrolled": true
   },
   "outputs": [
    {
     "data": {
      "text/html": [
       "<div>\n",
       "<style scoped>\n",
       "    .dataframe tbody tr th:only-of-type {\n",
       "        vertical-align: middle;\n",
       "    }\n",
       "\n",
       "    .dataframe tbody tr th {\n",
       "        vertical-align: top;\n",
       "    }\n",
       "\n",
       "    .dataframe thead th {\n",
       "        text-align: right;\n",
       "    }\n",
       "</style>\n",
       "<table border=\"1\" class=\"dataframe\">\n",
       "  <thead>\n",
       "    <tr style=\"text-align: right;\">\n",
       "      <th></th>\n",
       "      <th>index</th>\n",
       "      <th>music_title</th>\n",
       "      <th>lyrics</th>\n",
       "      <th>year</th>\n",
       "      <th>album</th>\n",
       "    </tr>\n",
       "  </thead>\n",
       "  <tbody>\n",
       "    <tr>\n",
       "      <th>220</th>\n",
       "      <td>224</td>\n",
       "      <td>I Don’t Want to Be Liked (Freestyle)</td>\n",
       "      <td>I ride for this shit, and I'll die for this sh...</td>\n",
       "      <td>2016-04-10</td>\n",
       "      <td>NaN</td>\n",
       "    </tr>\n",
       "    <tr>\n",
       "      <th>431</th>\n",
       "      <td>441</td>\n",
       "      <td>Power - SNL (Saturday Night Live) Version</td>\n",
       "      <td>[Kanye West - Alternative Second Verse]\\nThe b...</td>\n",
       "      <td>2010-10-02</td>\n",
       "      <td>NaN</td>\n",
       "    </tr>\n",
       "    <tr>\n",
       "      <th>9</th>\n",
       "      <td>9</td>\n",
       "      <td>Home</td>\n",
       "      <td>[Hook: John Legend]\\nGo ahead roll it up and p...</td>\n",
       "      <td>NaN</td>\n",
       "      <td>Get Well Soon...</td>\n",
       "    </tr>\n",
       "    <tr>\n",
       "      <th>285</th>\n",
       "      <td>292</td>\n",
       "      <td>Power (Remix)</td>\n",
       "      <td>[Intro: JAY-Z]\\nIs this thing on?\\nOh, I thoug...</td>\n",
       "      <td>2010-08-20</td>\n",
       "      <td>G.O.O.D. Fridays</td>\n",
       "    </tr>\n",
       "    <tr>\n",
       "      <th>365</th>\n",
       "      <td>372</td>\n",
       "      <td>On Michael Jordan</td>\n",
       "      <td>[Kanye West]\\nWe should’ve never ever let Mich...</td>\n",
       "      <td>2013-12-18</td>\n",
       "      <td>Kanye West’s Visionary Streams of Consciousness</td>\n",
       "    </tr>\n",
       "  </tbody>\n",
       "</table>\n",
       "</div>"
      ],
      "text/plain": [
       "     index                                music_title  \\\n",
       "220    224       I Don’t Want to Be Liked (Freestyle)   \n",
       "431    441  Power - SNL (Saturday Night Live) Version   \n",
       "9        9                                       Home   \n",
       "285    292                              Power (Remix)   \n",
       "365    372                          On Michael Jordan   \n",
       "\n",
       "                                                lyrics        year  \\\n",
       "220  I ride for this shit, and I'll die for this sh...  2016-04-10   \n",
       "431  [Kanye West - Alternative Second Verse]\\nThe b...  2010-10-02   \n",
       "9    [Hook: John Legend]\\nGo ahead roll it up and p...         NaN   \n",
       "285  [Intro: JAY-Z]\\nIs this thing on?\\nOh, I thoug...  2010-08-20   \n",
       "365  [Kanye West]\\nWe should’ve never ever let Mich...  2013-12-18   \n",
       "\n",
       "                                               album  \n",
       "220                                              NaN  \n",
       "431                                              NaN  \n",
       "9                                   Get Well Soon...  \n",
       "285                                 G.O.O.D. Fridays  \n",
       "365  Kanye West’s Visionary Streams of Consciousness  "
      ]
     },
     "execution_count": 33,
     "metadata": {},
     "output_type": "execute_result"
    }
   ],
   "source": [
    "x_test.head()"
   ]
  },
  {
   "cell_type": "code",
   "execution_count": 34,
   "metadata": {},
   "outputs": [
    {
     "data": {
      "text/plain": [
       "(99, 5)"
      ]
     },
     "execution_count": 34,
     "metadata": {},
     "output_type": "execute_result"
    }
   ],
   "source": [
    "x_test.shape"
   ]
  },
  {
   "cell_type": "markdown",
   "metadata": {},
   "source": [
    "## Pré-processamento dos textos:"
   ]
  },
  {
   "cell_type": "code",
   "execution_count": 36,
   "metadata": {
    "scrolled": true
   },
   "outputs": [
    {
     "ename": "AttributeError",
     "evalue": "'DataFrame' object has no attribute 'str'",
     "output_type": "error",
     "traceback": [
      "\u001b[0;31m---------------------------------------------------------------------------\u001b[0m",
      "\u001b[0;31mAttributeError\u001b[0m                            Traceback (most recent call last)",
      "\u001b[0;32m<ipython-input-36-15a5991e0cf2>\u001b[0m in \u001b[0;36m<module>\u001b[0;34m\u001b[0m\n\u001b[0;32m----> 1\u001b[0;31m \u001b[0mlyrics_final\u001b[0m \u001b[0;34m=\u001b[0m \u001b[0my_train\u001b[0m\u001b[0;34m.\u001b[0m\u001b[0mstr\u001b[0m\u001b[0;34m.\u001b[0m\u001b[0mlower\u001b[0m\u001b[0;34m(\u001b[0m\u001b[0;34m)\u001b[0m\u001b[0;34m\u001b[0m\u001b[0m\n\u001b[0m\u001b[1;32m      2\u001b[0m \u001b[0mstopWords\u001b[0m \u001b[0;34m=\u001b[0m \u001b[0mstopwords\u001b[0m\u001b[0;34m.\u001b[0m\u001b[0mwords\u001b[0m\u001b[0;34m(\u001b[0m\u001b[0;34m'english'\u001b[0m\u001b[0;34m)\u001b[0m\u001b[0;34m\u001b[0m\u001b[0m\n\u001b[1;32m      3\u001b[0m \u001b[0mstopWords\u001b[0m\u001b[0;34m.\u001b[0m\u001b[0mextend\u001b[0m\u001b[0;34m(\u001b[0m\u001b[0;34m[\u001b[0m\u001b[0;34m'-'\u001b[0m\u001b[0;34m,\u001b[0m\u001b[0;34m'('\u001b[0m\u001b[0;34m,\u001b[0m\u001b[0;34m')'\u001b[0m\u001b[0;34m,\u001b[0m\u001b[0;34m'{'\u001b[0m\u001b[0;34m,\u001b[0m\u001b[0;34m'}'\u001b[0m\u001b[0;34m,\u001b[0m\u001b[0;34m';'\u001b[0m\u001b[0;34m,\u001b[0m\u001b[0;34m'...'\u001b[0m\u001b[0;34m,\u001b[0m\u001b[0;34m'!'\u001b[0m\u001b[0;34m,\u001b[0m\u001b[0;34m'--'\u001b[0m\u001b[0;34m,\u001b[0m\u001b[0;34m'.'\u001b[0m\u001b[0;34m,\u001b[0m\u001b[0;34m'?'\u001b[0m\u001b[0;34m,\u001b[0m\u001b[0;34m','\u001b[0m\u001b[0;34m,\u001b[0m\u001b[0;34m'/'\u001b[0m\u001b[0;34m\"''\"\u001b[0m\u001b[0;34m]\u001b[0m\u001b[0;34m)\u001b[0m\u001b[0;34m\u001b[0m\u001b[0m\n",
      "\u001b[0;32m~/.local/lib/python3.5/site-packages/pandas/core/generic.py\u001b[0m in \u001b[0;36m__getattr__\u001b[0;34m(self, name)\u001b[0m\n\u001b[1;32m   4374\u001b[0m             \u001b[0;32mif\u001b[0m \u001b[0mself\u001b[0m\u001b[0;34m.\u001b[0m\u001b[0m_info_axis\u001b[0m\u001b[0;34m.\u001b[0m\u001b[0m_can_hold_identifiers_and_holds_name\u001b[0m\u001b[0;34m(\u001b[0m\u001b[0mname\u001b[0m\u001b[0;34m)\u001b[0m\u001b[0;34m:\u001b[0m\u001b[0;34m\u001b[0m\u001b[0m\n\u001b[1;32m   4375\u001b[0m                 \u001b[0;32mreturn\u001b[0m \u001b[0mself\u001b[0m\u001b[0;34m[\u001b[0m\u001b[0mname\u001b[0m\u001b[0;34m]\u001b[0m\u001b[0;34m\u001b[0m\u001b[0m\n\u001b[0;32m-> 4376\u001b[0;31m             \u001b[0;32mreturn\u001b[0m \u001b[0mobject\u001b[0m\u001b[0;34m.\u001b[0m\u001b[0m__getattribute__\u001b[0m\u001b[0;34m(\u001b[0m\u001b[0mself\u001b[0m\u001b[0;34m,\u001b[0m \u001b[0mname\u001b[0m\u001b[0;34m)\u001b[0m\u001b[0;34m\u001b[0m\u001b[0m\n\u001b[0m\u001b[1;32m   4377\u001b[0m \u001b[0;34m\u001b[0m\u001b[0m\n\u001b[1;32m   4378\u001b[0m     \u001b[0;32mdef\u001b[0m \u001b[0m__setattr__\u001b[0m\u001b[0;34m(\u001b[0m\u001b[0mself\u001b[0m\u001b[0;34m,\u001b[0m \u001b[0mname\u001b[0m\u001b[0;34m,\u001b[0m \u001b[0mvalue\u001b[0m\u001b[0;34m)\u001b[0m\u001b[0;34m:\u001b[0m\u001b[0;34m\u001b[0m\u001b[0m\n",
      "\u001b[0;31mAttributeError\u001b[0m: 'DataFrame' object has no attribute 'str'"
     ]
    }
   ],
   "source": [
    "lyrics_final = y_train.str.lower()\n",
    "stopWords = stopwords.words('english')\n",
    "stopWords.extend(['-','(',')','{','}',';','...','!','--','.','?',',','/'\"''\"])"
   ]
  },
  {
   "cell_type": "code",
   "execution_count": 14,
   "metadata": {},
   "outputs": [],
   "source": [
    "def remove_punctuation(text):\n",
    "    '''a function for removing punctuation'''\n",
    "    import string\n",
    "    # replacing the punctuations with no space, \n",
    "    # which in effect deletes the punctuation marks \n",
    "    translator = str.maketrans('', '', string.punctuation)\n",
    "    # return the text stripped of punctuation marks\n",
    "    return text.translate(translator)\n",
    "\n",
    "lyrics_final = lyrics_final.apply(remove_punctuation)"
   ]
  },
  {
   "cell_type": "code",
   "execution_count": 15,
   "metadata": {},
   "outputs": [],
   "source": [
    "def stopwords(text):\n",
    "    '''a function for removing the stopword'''\n",
    "    # removing the stop words and lowercasing the selected words\n",
    "    text = [word.lower() for word in text.split() if word.lower() not in stopWords]\n",
    "    # joining the list of words with space separato\n",
    "    return \" \".join(text)\n",
    "\n",
    "lyrics_final = lyrics_final.apply(stopwords)"
   ]
  },
  {
   "cell_type": "code",
   "execution_count": 16,
   "metadata": {
    "scrolled": true
   },
   "outputs": [
    {
     "name": "stdout",
     "output_type": "stream",
     "text": [
      "yeezy season approachin fuck whatever yall hearin fuck fuck whatever yall wearin monster come alive soon pull park benz get bitch shaking like parkinsons take number lock indian hair moccasins many hoes house sin real nigga back house black timbs couch black dick spouse know like chocolate men got niggas cochran hah sight sight much give fuck let show right fore give much give fuck let show right fore give oh hell give us need may want baby girl tryna get nut girl tryna give chopped em dont judge em joe brown one last announcement sports bra lets keep bouncin everybody wanna live top mountain took bleau tried sip fountain david grutman kicked got back put dick mouth sight sight uhhuh uhhuh uhhuh uhhuh right need right right need need right right need need right\n"
     ]
    }
   ],
   "source": [
    "print(lyrics_final.loc[471])"
   ]
  },
  {
   "cell_type": "code",
   "execution_count": 17,
   "metadata": {},
   "outputs": [],
   "source": [
    "lyrics_final = lyrics_final[pd.notnull(lyrics_final)]\n",
    "y_train = lyrics_final"
   ]
  },
  {
   "cell_type": "code",
   "execution_count": 18,
   "metadata": {},
   "outputs": [
    {
     "data": {
      "text/plain": [
       "339    aint question want need feel slowly drifting a...\n",
       "428    kanye verse friend showed pictures kids could ...\n",
       "275    ayy ya heard good news yall sleeping huh good ...\n",
       "266    drive slow homie drive slow homie never know h...\n",
       "448    doesnt get much better nah unfair unfair advan...\n",
       "Name: lyrics_final, dtype: object"
      ]
     },
     "execution_count": 18,
     "metadata": {},
     "output_type": "execute_result"
    }
   ],
   "source": [
    "y_train.head()"
   ]
  },
  {
   "cell_type": "markdown",
   "metadata": {},
   "source": [
    "## Caracterização dos textos"
   ]
  },
  {
   "cell_type": "code",
   "execution_count": 19,
   "metadata": {},
   "outputs": [],
   "source": [
    "from sklearn.linear_model import LogisticRegression\n",
    "from sklearn.metrics import accuracy_score"
   ]
  },
  {
   "cell_type": "code",
   "execution_count": 20,
   "metadata": {
    "scrolled": true
   },
   "outputs": [
    {
     "ename": "ValueError",
     "evalue": "Found input variables with inconsistent numbers of samples: [402, 391]",
     "output_type": "error",
     "traceback": [
      "\u001b[0;31m---------------------------------------------------------------------------\u001b[0m",
      "\u001b[0;31mValueError\u001b[0m                                Traceback (most recent call last)",
      "\u001b[0;32m<ipython-input-20-f5a99ae75450>\u001b[0m in \u001b[0;36m<module>\u001b[0;34m\u001b[0m\n\u001b[1;32m      1\u001b[0m \u001b[0mx_train\u001b[0m \u001b[0;34m=\u001b[0m  \u001b[0mx_train\u001b[0m\u001b[0;34m[\u001b[0m\u001b[0mpd\u001b[0m\u001b[0;34m.\u001b[0m\u001b[0mnotnull\u001b[0m\u001b[0;34m(\u001b[0m\u001b[0mx_train\u001b[0m\u001b[0;34m)\u001b[0m\u001b[0;34m]\u001b[0m\u001b[0;34m\u001b[0m\u001b[0m\n\u001b[0;32m----> 2\u001b[0;31m \u001b[0mx_train\u001b[0m\u001b[0;34m,\u001b[0m \u001b[0mx_val\u001b[0m\u001b[0;34m,\u001b[0m \u001b[0my_train\u001b[0m\u001b[0;34m,\u001b[0m \u001b[0my_val\u001b[0m \u001b[0;34m=\u001b[0m \u001b[0mtrain_test_split\u001b[0m\u001b[0;34m(\u001b[0m\u001b[0mx_train\u001b[0m\u001b[0;34m,\u001b[0m \u001b[0my_train\u001b[0m\u001b[0;34m,\u001b[0m \u001b[0mtest_size\u001b[0m\u001b[0;34m=\u001b[0m\u001b[0;36m0.2\u001b[0m\u001b[0;34m,\u001b[0m \u001b[0mrandom_state\u001b[0m\u001b[0;34m=\u001b[0m\u001b[0;36m1\u001b[0m\u001b[0;34m)\u001b[0m\u001b[0;34m\u001b[0m\u001b[0m\n\u001b[0m",
      "\u001b[0;32m~/.local/lib/python3.5/site-packages/sklearn/model_selection/_split.py\u001b[0m in \u001b[0;36mtrain_test_split\u001b[0;34m(*arrays, **options)\u001b[0m\n\u001b[1;32m   2094\u001b[0m         \u001b[0;32mraise\u001b[0m \u001b[0mTypeError\u001b[0m\u001b[0;34m(\u001b[0m\u001b[0;34m\"Invalid parameters passed: %s\"\u001b[0m \u001b[0;34m%\u001b[0m \u001b[0mstr\u001b[0m\u001b[0;34m(\u001b[0m\u001b[0moptions\u001b[0m\u001b[0;34m)\u001b[0m\u001b[0;34m)\u001b[0m\u001b[0;34m\u001b[0m\u001b[0m\n\u001b[1;32m   2095\u001b[0m \u001b[0;34m\u001b[0m\u001b[0m\n\u001b[0;32m-> 2096\u001b[0;31m     \u001b[0marrays\u001b[0m \u001b[0;34m=\u001b[0m \u001b[0mindexable\u001b[0m\u001b[0;34m(\u001b[0m\u001b[0;34m*\u001b[0m\u001b[0marrays\u001b[0m\u001b[0;34m)\u001b[0m\u001b[0;34m\u001b[0m\u001b[0m\n\u001b[0m\u001b[1;32m   2097\u001b[0m \u001b[0;34m\u001b[0m\u001b[0m\n\u001b[1;32m   2098\u001b[0m     \u001b[0mn_samples\u001b[0m \u001b[0;34m=\u001b[0m \u001b[0m_num_samples\u001b[0m\u001b[0;34m(\u001b[0m\u001b[0marrays\u001b[0m\u001b[0;34m[\u001b[0m\u001b[0;36m0\u001b[0m\u001b[0;34m]\u001b[0m\u001b[0;34m)\u001b[0m\u001b[0;34m\u001b[0m\u001b[0m\n",
      "\u001b[0;32m~/.local/lib/python3.5/site-packages/sklearn/utils/validation.py\u001b[0m in \u001b[0;36mindexable\u001b[0;34m(*iterables)\u001b[0m\n\u001b[1;32m    228\u001b[0m         \u001b[0;32melse\u001b[0m\u001b[0;34m:\u001b[0m\u001b[0;34m\u001b[0m\u001b[0m\n\u001b[1;32m    229\u001b[0m             \u001b[0mresult\u001b[0m\u001b[0;34m.\u001b[0m\u001b[0mappend\u001b[0m\u001b[0;34m(\u001b[0m\u001b[0mnp\u001b[0m\u001b[0;34m.\u001b[0m\u001b[0marray\u001b[0m\u001b[0;34m(\u001b[0m\u001b[0mX\u001b[0m\u001b[0;34m)\u001b[0m\u001b[0;34m)\u001b[0m\u001b[0;34m\u001b[0m\u001b[0m\n\u001b[0;32m--> 230\u001b[0;31m     \u001b[0mcheck_consistent_length\u001b[0m\u001b[0;34m(\u001b[0m\u001b[0;34m*\u001b[0m\u001b[0mresult\u001b[0m\u001b[0;34m)\u001b[0m\u001b[0;34m\u001b[0m\u001b[0m\n\u001b[0m\u001b[1;32m    231\u001b[0m     \u001b[0;32mreturn\u001b[0m \u001b[0mresult\u001b[0m\u001b[0;34m\u001b[0m\u001b[0m\n\u001b[1;32m    232\u001b[0m \u001b[0;34m\u001b[0m\u001b[0m\n",
      "\u001b[0;32m~/.local/lib/python3.5/site-packages/sklearn/utils/validation.py\u001b[0m in \u001b[0;36mcheck_consistent_length\u001b[0;34m(*arrays)\u001b[0m\n\u001b[1;32m    203\u001b[0m     \u001b[0;32mif\u001b[0m \u001b[0mlen\u001b[0m\u001b[0;34m(\u001b[0m\u001b[0muniques\u001b[0m\u001b[0;34m)\u001b[0m \u001b[0;34m>\u001b[0m \u001b[0;36m1\u001b[0m\u001b[0;34m:\u001b[0m\u001b[0;34m\u001b[0m\u001b[0m\n\u001b[1;32m    204\u001b[0m         raise ValueError(\"Found input variables with inconsistent numbers of\"\n\u001b[0;32m--> 205\u001b[0;31m                          \" samples: %r\" % [int(l) for l in lengths])\n\u001b[0m\u001b[1;32m    206\u001b[0m \u001b[0;34m\u001b[0m\u001b[0m\n\u001b[1;32m    207\u001b[0m \u001b[0;34m\u001b[0m\u001b[0m\n",
      "\u001b[0;31mValueError\u001b[0m: Found input variables with inconsistent numbers of samples: [402, 391]"
     ]
    }
   ],
   "source": [
    "x_train =  x_train[pd.notnull(x_train)]\n",
    "x_train, x_val, y_train, y_val = train_test_split(x_train, y_train, test_size=0.2, random_state=1)"
   ]
  },
  {
   "cell_type": "code",
   "execution_count": 24,
   "metadata": {},
   "outputs": [
    {
     "ename": "ValueError",
     "evalue": "could not convert string to float: 'On Sight'",
     "output_type": "error",
     "traceback": [
      "\u001b[0;31m---------------------------------------------------------------------------\u001b[0m",
      "\u001b[0;31mValueError\u001b[0m                                Traceback (most recent call last)",
      "\u001b[0;32m<ipython-input-24-32d7209bee00>\u001b[0m in \u001b[0;36m<module>\u001b[0;34m\u001b[0m\n\u001b[1;32m      1\u001b[0m \u001b[0;31m# fit a model\u001b[0m\u001b[0;34m\u001b[0m\u001b[0;34m\u001b[0m\u001b[0m\n\u001b[1;32m      2\u001b[0m \u001b[0mlm\u001b[0m \u001b[0;34m=\u001b[0m \u001b[0mlinear_model\u001b[0m\u001b[0;34m.\u001b[0m\u001b[0mLinearRegression\u001b[0m\u001b[0;34m(\u001b[0m\u001b[0;34m)\u001b[0m\u001b[0;34m\u001b[0m\u001b[0m\n\u001b[0;32m----> 3\u001b[0;31m \u001b[0mmodel\u001b[0m \u001b[0;34m=\u001b[0m \u001b[0mlm\u001b[0m\u001b[0;34m.\u001b[0m\u001b[0mfit\u001b[0m\u001b[0;34m(\u001b[0m\u001b[0mx_train\u001b[0m\u001b[0;34m,\u001b[0m \u001b[0my_train\u001b[0m\u001b[0;34m)\u001b[0m\u001b[0;34m\u001b[0m\u001b[0m\n\u001b[0m\u001b[1;32m      4\u001b[0m \u001b[0mpredictions\u001b[0m \u001b[0;34m=\u001b[0m \u001b[0mlm\u001b[0m\u001b[0;34m.\u001b[0m\u001b[0mpredict\u001b[0m\u001b[0;34m(\u001b[0m\u001b[0mx_test\u001b[0m\u001b[0;34m)\u001b[0m\u001b[0;34m\u001b[0m\u001b[0m\n",
      "\u001b[0;32m~/.local/lib/python3.5/site-packages/sklearn/linear_model/base.py\u001b[0m in \u001b[0;36mfit\u001b[0;34m(self, X, y, sample_weight)\u001b[0m\n\u001b[1;32m    461\u001b[0m         \u001b[0mn_jobs_\u001b[0m \u001b[0;34m=\u001b[0m \u001b[0mself\u001b[0m\u001b[0;34m.\u001b[0m\u001b[0mn_jobs\u001b[0m\u001b[0;34m\u001b[0m\u001b[0m\n\u001b[1;32m    462\u001b[0m         X, y = check_X_y(X, y, accept_sparse=['csr', 'csc', 'coo'],\n\u001b[0;32m--> 463\u001b[0;31m                          y_numeric=True, multi_output=True)\n\u001b[0m\u001b[1;32m    464\u001b[0m \u001b[0;34m\u001b[0m\u001b[0m\n\u001b[1;32m    465\u001b[0m         \u001b[0;32mif\u001b[0m \u001b[0msample_weight\u001b[0m \u001b[0;32mis\u001b[0m \u001b[0;32mnot\u001b[0m \u001b[0;32mNone\u001b[0m \u001b[0;32mand\u001b[0m \u001b[0mnp\u001b[0m\u001b[0;34m.\u001b[0m\u001b[0matleast_1d\u001b[0m\u001b[0;34m(\u001b[0m\u001b[0msample_weight\u001b[0m\u001b[0;34m)\u001b[0m\u001b[0;34m.\u001b[0m\u001b[0mndim\u001b[0m \u001b[0;34m>\u001b[0m \u001b[0;36m1\u001b[0m\u001b[0;34m:\u001b[0m\u001b[0;34m\u001b[0m\u001b[0m\n",
      "\u001b[0;32m~/.local/lib/python3.5/site-packages/sklearn/utils/validation.py\u001b[0m in \u001b[0;36mcheck_X_y\u001b[0;34m(X, y, accept_sparse, accept_large_sparse, dtype, order, copy, force_all_finite, ensure_2d, allow_nd, multi_output, ensure_min_samples, ensure_min_features, y_numeric, warn_on_dtype, estimator)\u001b[0m\n\u001b[1;32m    717\u001b[0m                     \u001b[0mensure_min_features\u001b[0m\u001b[0;34m=\u001b[0m\u001b[0mensure_min_features\u001b[0m\u001b[0;34m,\u001b[0m\u001b[0;34m\u001b[0m\u001b[0m\n\u001b[1;32m    718\u001b[0m                     \u001b[0mwarn_on_dtype\u001b[0m\u001b[0;34m=\u001b[0m\u001b[0mwarn_on_dtype\u001b[0m\u001b[0;34m,\u001b[0m\u001b[0;34m\u001b[0m\u001b[0m\n\u001b[0;32m--> 719\u001b[0;31m                     estimator=estimator)\n\u001b[0m\u001b[1;32m    720\u001b[0m     \u001b[0;32mif\u001b[0m \u001b[0mmulti_output\u001b[0m\u001b[0;34m:\u001b[0m\u001b[0;34m\u001b[0m\u001b[0m\n\u001b[1;32m    721\u001b[0m         y = check_array(y, 'csr', force_all_finite=True, ensure_2d=False,\n",
      "\u001b[0;32m~/.local/lib/python3.5/site-packages/sklearn/utils/validation.py\u001b[0m in \u001b[0;36mcheck_array\u001b[0;34m(array, accept_sparse, accept_large_sparse, dtype, order, copy, force_all_finite, ensure_2d, allow_nd, ensure_min_samples, ensure_min_features, warn_on_dtype, estimator)\u001b[0m\n\u001b[1;32m    534\u001b[0m         \u001b[0;31m# make sure we actually converted to numeric:\u001b[0m\u001b[0;34m\u001b[0m\u001b[0;34m\u001b[0m\u001b[0m\n\u001b[1;32m    535\u001b[0m         \u001b[0;32mif\u001b[0m \u001b[0mdtype_numeric\u001b[0m \u001b[0;32mand\u001b[0m \u001b[0marray\u001b[0m\u001b[0;34m.\u001b[0m\u001b[0mdtype\u001b[0m\u001b[0;34m.\u001b[0m\u001b[0mkind\u001b[0m \u001b[0;34m==\u001b[0m \u001b[0;34m\"O\"\u001b[0m\u001b[0;34m:\u001b[0m\u001b[0;34m\u001b[0m\u001b[0m\n\u001b[0;32m--> 536\u001b[0;31m             \u001b[0marray\u001b[0m \u001b[0;34m=\u001b[0m \u001b[0marray\u001b[0m\u001b[0;34m.\u001b[0m\u001b[0mastype\u001b[0m\u001b[0;34m(\u001b[0m\u001b[0mnp\u001b[0m\u001b[0;34m.\u001b[0m\u001b[0mfloat64\u001b[0m\u001b[0;34m)\u001b[0m\u001b[0;34m\u001b[0m\u001b[0m\n\u001b[0m\u001b[1;32m    537\u001b[0m         \u001b[0;32mif\u001b[0m \u001b[0;32mnot\u001b[0m \u001b[0mallow_nd\u001b[0m \u001b[0;32mand\u001b[0m \u001b[0marray\u001b[0m\u001b[0;34m.\u001b[0m\u001b[0mndim\u001b[0m \u001b[0;34m>=\u001b[0m \u001b[0;36m3\u001b[0m\u001b[0;34m:\u001b[0m\u001b[0;34m\u001b[0m\u001b[0m\n\u001b[1;32m    538\u001b[0m             raise ValueError(\"Found array with dim %d. %s expected <= 2.\"\n",
      "\u001b[0;31mValueError\u001b[0m: could not convert string to float: 'On Sight'"
     ]
    }
   ],
   "source": [
    "for c in [0.01, 0.05, 0.25, 0.5, 1]:\n",
    "    \n",
    "    lr = LogisticRegression(C=c)\n",
    "    lr.fit(X_train, y_train)\n",
    "    print (\"Accuracy for C=%s: %s\" \n",
    "           % (c, accuracy_score(y_val, lr.predict(X_val))))\n"
   ]
  }
 ],
 "metadata": {
  "kernelspec": {
   "display_name": "Python 3",
   "language": "python",
   "name": "python3"
  },
  "language_info": {
   "codemirror_mode": {
    "name": "ipython",
    "version": 3
   },
   "file_extension": ".py",
   "mimetype": "text/x-python",
   "name": "python",
   "nbconvert_exporter": "python",
   "pygments_lexer": "ipython3",
   "version": "3.5.2"
  }
 },
 "nbformat": 4,
 "nbformat_minor": 2
}
