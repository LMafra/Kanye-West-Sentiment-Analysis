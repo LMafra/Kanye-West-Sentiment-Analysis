{
 "cells": [
  {
   "cell_type": "code",
   "execution_count": 1,
   "metadata": {},
   "outputs": [],
   "source": [
    "import numpy as np\n",
    "import pandas as pd\n",
    "from sklearn import preprocessing\n",
    "from sklearn.feature_extraction.text import CountVectorizer, TfidfVectorizer\n",
    "from sklearn.model_selection import KFold\n",
    "from nltk.corpus import stopwords\n",
    "from nltk.stem.snowball import SnowballStemmer\n",
    "import matplotlib\n",
    "from matplotlib import pyplot as plt"
   ]
  },
  {
   "cell_type": "markdown",
   "metadata": {},
   "source": [
    "## Coletando músicas do CSV"
   ]
  },
  {
   "cell_type": "code",
   "execution_count": 2,
   "metadata": {
    "scrolled": false
   },
   "outputs": [
    {
     "data": {
      "text/html": [
       "<div>\n",
       "<style scoped>\n",
       "    .dataframe tbody tr th:only-of-type {\n",
       "        vertical-align: middle;\n",
       "    }\n",
       "\n",
       "    .dataframe tbody tr th {\n",
       "        vertical-align: top;\n",
       "    }\n",
       "\n",
       "    .dataframe thead th {\n",
       "        text-align: right;\n",
       "    }\n",
       "</style>\n",
       "<table border=\"1\" class=\"dataframe\">\n",
       "  <thead>\n",
       "    <tr style=\"text-align: right;\">\n",
       "      <th></th>\n",
       "      <th>music_title</th>\n",
       "      <th>lyrics</th>\n",
       "      <th>year</th>\n",
       "      <th>album</th>\n",
       "    </tr>\n",
       "  </thead>\n",
       "  <tbody>\n",
       "    <tr>\n",
       "      <th>0</th>\n",
       "      <td>All I Need (All I Have)</td>\n",
       "      <td>[Intro]\\nNiggas can't be serious, man\\nYo, yo\\...</td>\n",
       "      <td>NaN</td>\n",
       "      <td>World Record Holders</td>\n",
       "    </tr>\n",
       "    <tr>\n",
       "      <th>1</th>\n",
       "      <td>Message In A Bottle Freestyle</td>\n",
       "      <td>Uh, uh, uh\\nYeah, yeah, yeah\\nPut your hands i...</td>\n",
       "      <td>2007-01-01</td>\n",
       "      <td>NaN</td>\n",
       "    </tr>\n",
       "    <tr>\n",
       "      <th>2</th>\n",
       "      <td>Intro (I’m Good)</td>\n",
       "      <td>[John Legend]\\nOh oh oh oh, I'm good, so good\\...</td>\n",
       "      <td>NaN</td>\n",
       "      <td>I’m Good</td>\n",
       "    </tr>\n",
       "    <tr>\n",
       "      <th>3</th>\n",
       "      <td>Stronger</td>\n",
       "      <td>[Produced by Kanye West, Mike Dean, and Timbal...</td>\n",
       "      <td>2007-07-31</td>\n",
       "      <td>Graduation</td>\n",
       "    </tr>\n",
       "    <tr>\n",
       "      <th>4</th>\n",
       "      <td>On Bonnaroo Music Festival</td>\n",
       "      <td>Last time I got here, before I even arrived, t...</td>\n",
       "      <td>2014-06-13</td>\n",
       "      <td>Kanye West’s Visionary Streams of Consciousness</td>\n",
       "    </tr>\n",
       "  </tbody>\n",
       "</table>\n",
       "</div>"
      ],
      "text/plain": [
       "                     music_title  \\\n",
       "0        All I Need (All I Have)   \n",
       "1  Message In A Bottle Freestyle   \n",
       "2               Intro (I’m Good)   \n",
       "3                       Stronger   \n",
       "4     On Bonnaroo Music Festival   \n",
       "\n",
       "                                              lyrics        year  \\\n",
       "0  [Intro]\\nNiggas can't be serious, man\\nYo, yo\\...         NaN   \n",
       "1  Uh, uh, uh\\nYeah, yeah, yeah\\nPut your hands i...  2007-01-01   \n",
       "2  [John Legend]\\nOh oh oh oh, I'm good, so good\\...         NaN   \n",
       "3  [Produced by Kanye West, Mike Dean, and Timbal...  2007-07-31   \n",
       "4  Last time I got here, before I even arrived, t...  2014-06-13   \n",
       "\n",
       "                                             album  \n",
       "0                             World Record Holders  \n",
       "1                                              NaN  \n",
       "2                                         I’m Good  \n",
       "3                                       Graduation  \n",
       "4  Kanye West’s Visionary Streams of Consciousness  "
      ]
     },
     "execution_count": 2,
     "metadata": {},
     "output_type": "execute_result"
    }
   ],
   "source": [
    "df = pd.read_csv(\"/home/lmafra/Documentos/UnB/MT/Projeto_Final/Letras/lyrics.csv\",encoding='utf-8-sig')\n",
    "df.head()"
   ]
  },
  {
   "cell_type": "code",
   "execution_count": 3,
   "metadata": {
    "scrolled": true
   },
   "outputs": [
    {
     "name": "stdout",
     "output_type": "stream",
     "text": [
      "[Produced by Kanye West, Mike Dean, and Timbaland]\n",
      "\n",
      "[Intro]\n",
      "Work it, make it, do it, makes us\n",
      "Harder, better, faster, stronger\n",
      "\n",
      "[Chorus]\n",
      "N-now th-that that don't kill me\n",
      "Can only make me stronger\n",
      "I need you to hurry up now\n",
      "‘Cause I can't wait much longer\n",
      "I know I got to be right now\n",
      "‘Cause I can't get much wronger\n",
      "Man, I've been waiting all night now\n",
      "That's how long I been on ya\n",
      "(Work it harder, make it better\n",
      "Do it faster, makes us stronger)\n",
      "(I need you right now!)\n",
      "(I need you right now!)\n",
      "\n",
      "[Verse 1]\n",
      "Let's get lost tonight\n",
      "You could be my black Kate Moss tonight\n",
      "Play secretary, I'm the boss tonight\n",
      "And you don't give a fuck what they all say, right?\n",
      "Awesome, the Christian in Christian Dior\n",
      "Damn, they don't make 'em like this anymore\n",
      "I ask, ‘cause I'm not sure\n",
      "Do anybody make real shit anymore?\n",
      "Bow in the presence of greatness\n",
      "‘Cause right now thou hast forsaken us\n",
      "You should be honored by my lateness\n",
      "That I would even show up to this fake shit\n",
      "So go ahead, go nuts, go apeshit\n",
      "'Specially in my Pastellé, on my Bape shit\n",
      "Act like you can't tell who made this\n",
      "New Gospel, homie, take six\n",
      "And take this, haters!\n",
      "\n",
      "[Chorus]\n",
      "N-now th-that that don't kill me\n",
      "Can only make me stronger\n",
      "I need you to hurry up now\n",
      "‘Cause I can't wait much longer\n",
      "I know I got to be right now\n",
      "‘Cause I can't get much wronger\n",
      "Man, I've been waiting all night now\n",
      "That's how long I been on ya\n",
      "(Work it harder, make it better\n",
      "Do it faster, makes us stronger)\n",
      "(I need you right now!)\n",
      "(I need you right now!) me likey\n",
      "\n",
      "[Verse 2]\n",
      "I don't know if you got a man or not\n",
      "If you made plans or not\n",
      "If God put me in your plans or not\n",
      "I'm trippin', this drink got me sayin' a lot\n",
      "But I know that God put you in front of me\n",
      "So how the hell could you front on me?\n",
      "There's a thousand you's, there's only one of me\n",
      "I'm trippin', I'm caught up in the moment, right?\n",
      "‘Cause it's Louis Vuitton Don night\n",
      "So we gon' do everything that Kan like\n",
      "Heard they'd do anything for a Klondike\n",
      "Well, I'd do anything for a blonde dyke\n",
      "And she'll do anything for the limelight\n",
      "And we'll do anything when the time's right\n",
      "Uh, baby, you're makin' it\n",
      "(Harder, better, faster, stronger)\n",
      "\n",
      "[Chorus]\n",
      "N-now th-that that don't kill me\n",
      "Can only make me stronger\n",
      "I need you to hurry up now\n",
      "‘Cause I can't wait much longer\n",
      "I know I got to be right now\n",
      "‘Cause I can't get much wronger\n",
      "Man, I've been waiting all night now\n",
      "That's how long I been on ya\n",
      "(Work it harder, make it better\n",
      "Do it faster, makes us stronger)\n",
      "(I need you right now!)\n",
      "(I need you right now!)\n",
      "\n",
      "[Bridge]\n",
      "You know how long I've been on ya\n",
      "Since Prince was on Apollonia\n",
      "Since O.J. had Isotoners\n",
      "Don't act like I never told ya\n",
      "Don't act like I never told ya\n",
      "Don't act like I never told ya\n",
      "Don't act like I never told ya\n",
      "Don't act like I never told ya\n",
      "Baby, you're makin' it\n",
      "(Harder, better, faster, stronger)\n",
      "\n",
      "[Chorus]\n",
      "N-now th-that that don't kill me\n",
      "Can only make me stronger\n",
      "I need you to hurry up now\n",
      "‘Cause I can't wait much longer\n",
      "I know I got to be right now\n",
      "‘Cause I can't get much wronger\n",
      "Man, I've been waiting all night now\n",
      "That's how long I been on ya\n",
      "(Work it harder, make it better\n",
      "Do it faster, makes us stronger)\n",
      "(I need you right now!)\n",
      "(I need you right now!)\n",
      "Right now!\n",
      "Work it harder, make it better\n",
      "Do it faster, makes us stronger\n",
      "(I need you right now!)\n",
      "(I need you right now!)\n",
      "\n",
      "[Outro]\n",
      "You know how long I've been on ya\n",
      "Since Prince was on Apollonia\n",
      "Since O.J. had Isotoners\n",
      "Don't act like I never told ya\n",
      "You know how long I've been on ya\n",
      "Since Prince was on Apollonia\n",
      "Since O.J. had Isotoners\n",
      "Don't act like I never told ya told ya told ya\n",
      "Never told ya…told ya told ya told ya\n",
      "Never told ya…told ya told ya told ya\n",
      "Never told ya…told ya told ya told ya\n",
      "Never told ya…told ya told ya told ya\n",
      "Never over…Never over… Never over… Never over…\n",
      "Never over…Never over… Never over… Never over…\n",
      "(Harder, better, faster, stronger)\n",
      "Work it harder, make it better\n",
      "Do it faster, makes us stronger\n",
      "More than ever, hour after—\n",
      "Our work is never over\n",
      "Work it harder, make it better\n",
      "Do it faster, makes us stronger\n",
      "More than ever, hour after—\n",
      "Our work is never over\n",
      "Work it harder, make it better\n",
      "Do it faster, makes us stronger\n",
      "More than ever, hour after—\n",
      "Our work is never over\n",
      "Work it harder, make it better\n",
      "Do it faster, makes us stronger\n",
      "More than ever, hour after—\n",
      "Our work is never over\n"
     ]
    }
   ],
   "source": [
    "lyrics = df['lyrics']\n",
    "lyrics = lyrics[pd.notnull(lyrics)]\n",
    "print(lyrics.loc[3])"
   ]
  },
  {
   "cell_type": "markdown",
   "metadata": {},
   "source": [
    "## Removendo headers ([Chorus],[Intro], [Verse]...)"
   ]
  },
  {
   "cell_type": "code",
   "execution_count": 4,
   "metadata": {
    "scrolled": true
   },
   "outputs": [],
   "source": [
    "df['lyrics_final'] = lyrics.str.replace(r\"([\\[].*?[\\]])\" , \"\")\n",
    "\n",
    "lyrics_final = df['lyrics_final']"
   ]
  },
  {
   "cell_type": "code",
   "execution_count": 5,
   "metadata": {
    "scrolled": true
   },
   "outputs": [
    {
     "name": "stdout",
     "output_type": "stream",
     "text": [
      "\n",
      "\n",
      "\n",
      "Work it, make it, do it, makes us\n",
      "Harder, better, faster, stronger\n",
      "\n",
      "\n",
      "N-now th-that that don't kill me\n",
      "Can only make me stronger\n",
      "I need you to hurry up now\n",
      "‘Cause I can't wait much longer\n",
      "I know I got to be right now\n",
      "‘Cause I can't get much wronger\n",
      "Man, I've been waiting all night now\n",
      "That's how long I been on ya\n",
      "(Work it harder, make it better\n",
      "Do it faster, makes us stronger)\n",
      "(I need you right now!)\n",
      "(I need you right now!)\n",
      "\n",
      "\n",
      "Let's get lost tonight\n",
      "You could be my black Kate Moss tonight\n",
      "Play secretary, I'm the boss tonight\n",
      "And you don't give a fuck what they all say, right?\n",
      "Awesome, the Christian in Christian Dior\n",
      "Damn, they don't make 'em like this anymore\n",
      "I ask, ‘cause I'm not sure\n",
      "Do anybody make real shit anymore?\n",
      "Bow in the presence of greatness\n",
      "‘Cause right now thou hast forsaken us\n",
      "You should be honored by my lateness\n",
      "That I would even show up to this fake shit\n",
      "So go ahead, go nuts, go apeshit\n",
      "'Specially in my Pastellé, on my Bape shit\n",
      "Act like you can't tell who made this\n",
      "New Gospel, homie, take six\n",
      "And take this, haters!\n",
      "\n",
      "\n",
      "N-now th-that that don't kill me\n",
      "Can only make me stronger\n",
      "I need you to hurry up now\n",
      "‘Cause I can't wait much longer\n",
      "I know I got to be right now\n",
      "‘Cause I can't get much wronger\n",
      "Man, I've been waiting all night now\n",
      "That's how long I been on ya\n",
      "(Work it harder, make it better\n",
      "Do it faster, makes us stronger)\n",
      "(I need you right now!)\n",
      "(I need you right now!) me likey\n",
      "\n",
      "\n",
      "I don't know if you got a man or not\n",
      "If you made plans or not\n",
      "If God put me in your plans or not\n",
      "I'm trippin', this drink got me sayin' a lot\n",
      "But I know that God put you in front of me\n",
      "So how the hell could you front on me?\n",
      "There's a thousand you's, there's only one of me\n",
      "I'm trippin', I'm caught up in the moment, right?\n",
      "‘Cause it's Louis Vuitton Don night\n",
      "So we gon' do everything that Kan like\n",
      "Heard they'd do anything for a Klondike\n",
      "Well, I'd do anything for a blonde dyke\n",
      "And she'll do anything for the limelight\n",
      "And we'll do anything when the time's right\n",
      "Uh, baby, you're makin' it\n",
      "(Harder, better, faster, stronger)\n",
      "\n",
      "\n",
      "N-now th-that that don't kill me\n",
      "Can only make me stronger\n",
      "I need you to hurry up now\n",
      "‘Cause I can't wait much longer\n",
      "I know I got to be right now\n",
      "‘Cause I can't get much wronger\n",
      "Man, I've been waiting all night now\n",
      "That's how long I been on ya\n",
      "(Work it harder, make it better\n",
      "Do it faster, makes us stronger)\n",
      "(I need you right now!)\n",
      "(I need you right now!)\n",
      "\n",
      "\n",
      "You know how long I've been on ya\n",
      "Since Prince was on Apollonia\n",
      "Since O.J. had Isotoners\n",
      "Don't act like I never told ya\n",
      "Don't act like I never told ya\n",
      "Don't act like I never told ya\n",
      "Don't act like I never told ya\n",
      "Don't act like I never told ya\n",
      "Baby, you're makin' it\n",
      "(Harder, better, faster, stronger)\n",
      "\n",
      "\n",
      "N-now th-that that don't kill me\n",
      "Can only make me stronger\n",
      "I need you to hurry up now\n",
      "‘Cause I can't wait much longer\n",
      "I know I got to be right now\n",
      "‘Cause I can't get much wronger\n",
      "Man, I've been waiting all night now\n",
      "That's how long I been on ya\n",
      "(Work it harder, make it better\n",
      "Do it faster, makes us stronger)\n",
      "(I need you right now!)\n",
      "(I need you right now!)\n",
      "Right now!\n",
      "Work it harder, make it better\n",
      "Do it faster, makes us stronger\n",
      "(I need you right now!)\n",
      "(I need you right now!)\n",
      "\n",
      "\n",
      "You know how long I've been on ya\n",
      "Since Prince was on Apollonia\n",
      "Since O.J. had Isotoners\n",
      "Don't act like I never told ya\n",
      "You know how long I've been on ya\n",
      "Since Prince was on Apollonia\n",
      "Since O.J. had Isotoners\n",
      "Don't act like I never told ya told ya told ya\n",
      "Never told ya…told ya told ya told ya\n",
      "Never told ya…told ya told ya told ya\n",
      "Never told ya…told ya told ya told ya\n",
      "Never told ya…told ya told ya told ya\n",
      "Never over…Never over… Never over… Never over…\n",
      "Never over…Never over… Never over… Never over…\n",
      "(Harder, better, faster, stronger)\n",
      "Work it harder, make it better\n",
      "Do it faster, makes us stronger\n",
      "More than ever, hour after—\n",
      "Our work is never over\n",
      "Work it harder, make it better\n",
      "Do it faster, makes us stronger\n",
      "More than ever, hour after—\n",
      "Our work is never over\n",
      "Work it harder, make it better\n",
      "Do it faster, makes us stronger\n",
      "More than ever, hour after—\n",
      "Our work is never over\n",
      "Work it harder, make it better\n",
      "Do it faster, makes us stronger\n",
      "More than ever, hour after—\n",
      "Our work is never over\n"
     ]
    }
   ],
   "source": [
    "print(lyrics_final.loc[3])"
   ]
  },
  {
   "cell_type": "code",
   "execution_count": 6,
   "metadata": {},
   "outputs": [
    {
     "data": {
      "text/html": [
       "<div>\n",
       "<style scoped>\n",
       "    .dataframe tbody tr th:only-of-type {\n",
       "        vertical-align: middle;\n",
       "    }\n",
       "\n",
       "    .dataframe tbody tr th {\n",
       "        vertical-align: top;\n",
       "    }\n",
       "\n",
       "    .dataframe thead th {\n",
       "        text-align: right;\n",
       "    }\n",
       "</style>\n",
       "<table border=\"1\" class=\"dataframe\">\n",
       "  <thead>\n",
       "    <tr style=\"text-align: right;\">\n",
       "      <th></th>\n",
       "      <th>music_title</th>\n",
       "      <th>lyrics</th>\n",
       "      <th>year</th>\n",
       "      <th>album</th>\n",
       "      <th>lyrics_final</th>\n",
       "    </tr>\n",
       "  </thead>\n",
       "  <tbody>\n",
       "    <tr>\n",
       "      <th>0</th>\n",
       "      <td>All I Need (All I Have)</td>\n",
       "      <td>[Intro]\\nNiggas can't be serious, man\\nYo, yo\\...</td>\n",
       "      <td>NaN</td>\n",
       "      <td>World Record Holders</td>\n",
       "      <td>\\nNiggas can't be serious, man\\nYo, yo\\n\\n\\nYo...</td>\n",
       "    </tr>\n",
       "    <tr>\n",
       "      <th>1</th>\n",
       "      <td>Message In A Bottle Freestyle</td>\n",
       "      <td>Uh, uh, uh\\nYeah, yeah, yeah\\nPut your hands i...</td>\n",
       "      <td>2007-01-01</td>\n",
       "      <td>NaN</td>\n",
       "      <td>Uh, uh, uh\\nYeah, yeah, yeah\\nPut your hands i...</td>\n",
       "    </tr>\n",
       "    <tr>\n",
       "      <th>2</th>\n",
       "      <td>Intro (I’m Good)</td>\n",
       "      <td>[John Legend]\\nOh oh oh oh, I'm good, so good\\...</td>\n",
       "      <td>NaN</td>\n",
       "      <td>I’m Good</td>\n",
       "      <td>\\nOh oh oh oh, I'm good, so good\\nEven better ...</td>\n",
       "    </tr>\n",
       "    <tr>\n",
       "      <th>3</th>\n",
       "      <td>Stronger</td>\n",
       "      <td>[Produced by Kanye West, Mike Dean, and Timbal...</td>\n",
       "      <td>2007-07-31</td>\n",
       "      <td>Graduation</td>\n",
       "      <td>\\n\\n\\nWork it, make it, do it, makes us\\nHarde...</td>\n",
       "    </tr>\n",
       "    <tr>\n",
       "      <th>4</th>\n",
       "      <td>On Bonnaroo Music Festival</td>\n",
       "      <td>Last time I got here, before I even arrived, t...</td>\n",
       "      <td>2014-06-13</td>\n",
       "      <td>Kanye West’s Visionary Streams of Consciousness</td>\n",
       "      <td>Last time I got here, before I even arrived, t...</td>\n",
       "    </tr>\n",
       "  </tbody>\n",
       "</table>\n",
       "</div>"
      ],
      "text/plain": [
       "                     music_title  \\\n",
       "0        All I Need (All I Have)   \n",
       "1  Message In A Bottle Freestyle   \n",
       "2               Intro (I’m Good)   \n",
       "3                       Stronger   \n",
       "4     On Bonnaroo Music Festival   \n",
       "\n",
       "                                              lyrics        year  \\\n",
       "0  [Intro]\\nNiggas can't be serious, man\\nYo, yo\\...         NaN   \n",
       "1  Uh, uh, uh\\nYeah, yeah, yeah\\nPut your hands i...  2007-01-01   \n",
       "2  [John Legend]\\nOh oh oh oh, I'm good, so good\\...         NaN   \n",
       "3  [Produced by Kanye West, Mike Dean, and Timbal...  2007-07-31   \n",
       "4  Last time I got here, before I even arrived, t...  2014-06-13   \n",
       "\n",
       "                                             album  \\\n",
       "0                             World Record Holders   \n",
       "1                                              NaN   \n",
       "2                                         I’m Good   \n",
       "3                                       Graduation   \n",
       "4  Kanye West’s Visionary Streams of Consciousness   \n",
       "\n",
       "                                        lyrics_final  \n",
       "0  \\nNiggas can't be serious, man\\nYo, yo\\n\\n\\nYo...  \n",
       "1  Uh, uh, uh\\nYeah, yeah, yeah\\nPut your hands i...  \n",
       "2  \\nOh oh oh oh, I'm good, so good\\nEven better ...  \n",
       "3  \\n\\n\\nWork it, make it, do it, makes us\\nHarde...  \n",
       "4  Last time I got here, before I even arrived, t...  "
      ]
     },
     "execution_count": 6,
     "metadata": {},
     "output_type": "execute_result"
    }
   ],
   "source": [
    "df.head()"
   ]
  },
  {
   "cell_type": "markdown",
   "metadata": {},
   "source": [
    "## Separando dados para treinamento e teste"
   ]
  },
  {
   "cell_type": "code",
   "execution_count": 7,
   "metadata": {},
   "outputs": [],
   "source": [
    "from sklearn.linear_model import LogisticRegression\n",
    "from sklearn.metrics import accuracy_score\n",
    "from sklearn.model_selection import train_test_split\n",
    "from sklearn.feature_extraction.text import CountVectorizer"
   ]
  },
  {
   "cell_type": "code",
   "execution_count": 8,
   "metadata": {},
   "outputs": [],
   "source": [
    "y=df.lyrics_final\n",
    "x=df.drop('lyrics_final',axis=1) "
   ]
  },
  {
   "cell_type": "code",
   "execution_count": 9,
   "metadata": {
    "scrolled": true
   },
   "outputs": [
    {
     "data": {
      "text/html": [
       "<div>\n",
       "<style scoped>\n",
       "    .dataframe tbody tr th:only-of-type {\n",
       "        vertical-align: middle;\n",
       "    }\n",
       "\n",
       "    .dataframe tbody tr th {\n",
       "        vertical-align: top;\n",
       "    }\n",
       "\n",
       "    .dataframe thead th {\n",
       "        text-align: right;\n",
       "    }\n",
       "</style>\n",
       "<table border=\"1\" class=\"dataframe\">\n",
       "  <thead>\n",
       "    <tr style=\"text-align: right;\">\n",
       "      <th></th>\n",
       "      <th>music_title</th>\n",
       "      <th>lyrics</th>\n",
       "      <th>year</th>\n",
       "      <th>album</th>\n",
       "    </tr>\n",
       "  </thead>\n",
       "  <tbody>\n",
       "    <tr>\n",
       "      <th>339</th>\n",
       "      <td>Gorgeous</td>\n",
       "      <td>[Produced by Kanye West, Mike Dean &amp; No I.D.]\\...</td>\n",
       "      <td>2010-11-22</td>\n",
       "      <td>My Beautiful Dark Twisted Fantasy</td>\n",
       "    </tr>\n",
       "    <tr>\n",
       "      <th>428</th>\n",
       "      <td>Welcome to Heartbreak (unreleased version)</td>\n",
       "      <td>Kanye (verse):\\nMy friend showed me pictures o...</td>\n",
       "      <td>NaN</td>\n",
       "      <td>NaN</td>\n",
       "    </tr>\n",
       "    <tr>\n",
       "      <th>275</th>\n",
       "      <td>Feedback</td>\n",
       "      <td>[Chorus]\\nAyy, ya heard about the good news?\\n...</td>\n",
       "      <td>2016-02-14</td>\n",
       "      <td>The Life of Pablo</td>\n",
       "    </tr>\n",
       "    <tr>\n",
       "      <th>266</th>\n",
       "      <td>Drive Slow</td>\n",
       "      <td>[Produced by Kanye West]\\n\\n[Chorus: Kanye Wes...</td>\n",
       "      <td>2005-08-30</td>\n",
       "      <td>Late Registration</td>\n",
       "    </tr>\n",
       "    <tr>\n",
       "      <th>448</th>\n",
       "      <td>Tim Westwood Freestyle</td>\n",
       "      <td>[Intro: Kanye West (Tim Westwood)]\\nDoesn't ge...</td>\n",
       "      <td>NaN</td>\n",
       "      <td>NaN</td>\n",
       "    </tr>\n",
       "  </tbody>\n",
       "</table>\n",
       "</div>"
      ],
      "text/plain": [
       "                                    music_title  \\\n",
       "339                                    Gorgeous   \n",
       "428  Welcome to Heartbreak (unreleased version)   \n",
       "275                                    Feedback   \n",
       "266                                  Drive Slow   \n",
       "448                      Tim Westwood Freestyle   \n",
       "\n",
       "                                                lyrics        year  \\\n",
       "339  [Produced by Kanye West, Mike Dean & No I.D.]\\...  2010-11-22   \n",
       "428  Kanye (verse):\\nMy friend showed me pictures o...         NaN   \n",
       "275  [Chorus]\\nAyy, ya heard about the good news?\\n...  2016-02-14   \n",
       "266  [Produced by Kanye West]\\n\\n[Chorus: Kanye Wes...  2005-08-30   \n",
       "448  [Intro: Kanye West (Tim Westwood)]\\nDoesn't ge...         NaN   \n",
       "\n",
       "                                 album  \n",
       "339  My Beautiful Dark Twisted Fantasy  \n",
       "428                                NaN  \n",
       "275                  The Life of Pablo  \n",
       "266                  Late Registration  \n",
       "448                                NaN  "
      ]
     },
     "execution_count": 9,
     "metadata": {},
     "output_type": "execute_result"
    }
   ],
   "source": [
    "x_train,x_test,y_train,y_test=train_test_split(x,y,test_size=0.2)\n",
    "x_train.head()"
   ]
  },
  {
   "cell_type": "code",
   "execution_count": 10,
   "metadata": {},
   "outputs": [
    {
     "data": {
      "text/plain": [
       "(402, 4)"
      ]
     },
     "execution_count": 10,
     "metadata": {},
     "output_type": "execute_result"
    }
   ],
   "source": [
    "x_train.shape"
   ]
  },
  {
   "cell_type": "code",
   "execution_count": 21,
   "metadata": {},
   "outputs": [
    {
     "data": {
      "text/plain": [
       "(391,)"
      ]
     },
     "execution_count": 21,
     "metadata": {},
     "output_type": "execute_result"
    }
   ],
   "source": [
    "y_train.shape"
   ]
  },
  {
   "cell_type": "code",
   "execution_count": null,
   "metadata": {},
   "outputs": [],
   "source": []
  },
  {
   "cell_type": "code",
   "execution_count": 11,
   "metadata": {
    "scrolled": true
   },
   "outputs": [
    {
     "data": {
      "text/html": [
       "<div>\n",
       "<style scoped>\n",
       "    .dataframe tbody tr th:only-of-type {\n",
       "        vertical-align: middle;\n",
       "    }\n",
       "\n",
       "    .dataframe tbody tr th {\n",
       "        vertical-align: top;\n",
       "    }\n",
       "\n",
       "    .dataframe thead th {\n",
       "        text-align: right;\n",
       "    }\n",
       "</style>\n",
       "<table border=\"1\" class=\"dataframe\">\n",
       "  <thead>\n",
       "    <tr style=\"text-align: right;\">\n",
       "      <th></th>\n",
       "      <th>music_title</th>\n",
       "      <th>lyrics</th>\n",
       "      <th>year</th>\n",
       "      <th>album</th>\n",
       "    </tr>\n",
       "  </thead>\n",
       "  <tbody>\n",
       "    <tr>\n",
       "      <th>203</th>\n",
       "      <td>Yikes</td>\n",
       "      <td>[Chorus]\\nShit could get menacin', frightenin'...</td>\n",
       "      <td>2018-06-01</td>\n",
       "      <td>ye</td>\n",
       "    </tr>\n",
       "    <tr>\n",
       "      <th>315</th>\n",
       "      <td>Where You At? (The Whole City Behind Us)</td>\n",
       "      <td>[Verse 1: Kanye West]\\nYeah, yeah - I used to ...</td>\n",
       "      <td>NaN</td>\n",
       "      <td>Freshmen Adjustment Vol. 3</td>\n",
       "    </tr>\n",
       "    <tr>\n",
       "      <th>283</th>\n",
       "      <td>Impossible</td>\n",
       "      <td>[Chorus: Keyshia Cole &amp; New Birth]\\nI've been ...</td>\n",
       "      <td>NaN</td>\n",
       "      <td>NaN</td>\n",
       "    </tr>\n",
       "    <tr>\n",
       "      <th>216</th>\n",
       "      <td>Bound 2 (Later...with Jools Holland)</td>\n",
       "      <td>[Intro]\\nI know you're tired of lovin', of lov...</td>\n",
       "      <td>2013-09-17</td>\n",
       "      <td>NaN</td>\n",
       "    </tr>\n",
       "    <tr>\n",
       "      <th>343</th>\n",
       "      <td>The Storm*</td>\n",
       "      <td>Lyrics from Snippet\\n\\n[Intro: Ty Dolla $ign, ...</td>\n",
       "      <td>NaN</td>\n",
       "      <td>Yandhi</td>\n",
       "    </tr>\n",
       "  </tbody>\n",
       "</table>\n",
       "</div>"
      ],
      "text/plain": [
       "                                  music_title  \\\n",
       "203                                     Yikes   \n",
       "315  Where You At? (The Whole City Behind Us)   \n",
       "283                                Impossible   \n",
       "216      Bound 2 (Later...with Jools Holland)   \n",
       "343                                The Storm*   \n",
       "\n",
       "                                                lyrics        year  \\\n",
       "203  [Chorus]\\nShit could get menacin', frightenin'...  2018-06-01   \n",
       "315  [Verse 1: Kanye West]\\nYeah, yeah - I used to ...         NaN   \n",
       "283  [Chorus: Keyshia Cole & New Birth]\\nI've been ...         NaN   \n",
       "216  [Intro]\\nI know you're tired of lovin', of lov...  2013-09-17   \n",
       "343  Lyrics from Snippet\\n\\n[Intro: Ty Dolla $ign, ...         NaN   \n",
       "\n",
       "                          album  \n",
       "203                          ye  \n",
       "315  Freshmen Adjustment Vol. 3  \n",
       "283                         NaN  \n",
       "216                         NaN  \n",
       "343                      Yandhi  "
      ]
     },
     "execution_count": 11,
     "metadata": {},
     "output_type": "execute_result"
    }
   ],
   "source": [
    "x_test.head()"
   ]
  },
  {
   "cell_type": "code",
   "execution_count": 12,
   "metadata": {},
   "outputs": [
    {
     "data": {
      "text/plain": [
       "(101, 4)"
      ]
     },
     "execution_count": 12,
     "metadata": {},
     "output_type": "execute_result"
    }
   ],
   "source": [
    "x_test.shape"
   ]
  },
  {
   "cell_type": "markdown",
   "metadata": {},
   "source": [
    "## Pré-processamento dos textos:"
   ]
  },
  {
   "cell_type": "code",
   "execution_count": 13,
   "metadata": {
    "scrolled": true
   },
   "outputs": [],
   "source": [
    "lyrics_final = y_train.str.lower()\n",
    "lyrics_final.dropna(inplace=True)\n",
    "stopWords = stopwords.words('english')\n",
    "stopWords.extend(['-','(',')','{','}',';','...','!','--','.','?',',','/'\"''\"])"
   ]
  },
  {
   "cell_type": "code",
   "execution_count": 14,
   "metadata": {},
   "outputs": [],
   "source": [
    "def remove_punctuation(text):\n",
    "    '''a function for removing punctuation'''\n",
    "    import string\n",
    "    # replacing the punctuations with no space, \n",
    "    # which in effect deletes the punctuation marks \n",
    "    translator = str.maketrans('', '', string.punctuation)\n",
    "    # return the text stripped of punctuation marks\n",
    "    return text.translate(translator)\n",
    "\n",
    "lyrics_final = lyrics_final.apply(remove_punctuation)"
   ]
  },
  {
   "cell_type": "code",
   "execution_count": 15,
   "metadata": {},
   "outputs": [],
   "source": [
    "def stopwords(text):\n",
    "    '''a function for removing the stopword'''\n",
    "    # removing the stop words and lowercasing the selected words\n",
    "    text = [word.lower() for word in text.split() if word.lower() not in stopWords]\n",
    "    # joining the list of words with space separato\n",
    "    return \" \".join(text)\n",
    "\n",
    "lyrics_final = lyrics_final.apply(stopwords)"
   ]
  },
  {
   "cell_type": "code",
   "execution_count": 16,
   "metadata": {
    "scrolled": true
   },
   "outputs": [
    {
     "name": "stdout",
     "output_type": "stream",
     "text": [
      "yeezy season approachin fuck whatever yall hearin fuck fuck whatever yall wearin monster come alive soon pull park benz get bitch shaking like parkinsons take number lock indian hair moccasins many hoes house sin real nigga back house black timbs couch black dick spouse know like chocolate men got niggas cochran hah sight sight much give fuck let show right fore give much give fuck let show right fore give oh hell give us need may want baby girl tryna get nut girl tryna give chopped em dont judge em joe brown one last announcement sports bra lets keep bouncin everybody wanna live top mountain took bleau tried sip fountain david grutman kicked got back put dick mouth sight sight uhhuh uhhuh uhhuh uhhuh right need right right need need right right need need right\n"
     ]
    }
   ],
   "source": [
    "print(lyrics_final.loc[471])"
   ]
  },
  {
   "cell_type": "code",
   "execution_count": 17,
   "metadata": {},
   "outputs": [],
   "source": [
    "lyrics_final = lyrics_final[pd.notnull(lyrics_final)]\n",
    "y_train = lyrics_final"
   ]
  },
  {
   "cell_type": "code",
   "execution_count": 18,
   "metadata": {},
   "outputs": [
    {
     "data": {
      "text/plain": [
       "339    aint question want need feel slowly drifting a...\n",
       "428    kanye verse friend showed pictures kids could ...\n",
       "275    ayy ya heard good news yall sleeping huh good ...\n",
       "266    drive slow homie drive slow homie never know h...\n",
       "448    doesnt get much better nah unfair unfair advan...\n",
       "Name: lyrics_final, dtype: object"
      ]
     },
     "execution_count": 18,
     "metadata": {},
     "output_type": "execute_result"
    }
   ],
   "source": [
    "y_train.head()"
   ]
  },
  {
   "cell_type": "markdown",
   "metadata": {},
   "source": [
    "## Caracterização dos textos"
   ]
  },
  {
   "cell_type": "code",
   "execution_count": 19,
   "metadata": {},
   "outputs": [],
   "source": [
    "from sklearn.linear_model import LogisticRegression\n",
    "from sklearn.metrics import accuracy_score"
   ]
  },
  {
   "cell_type": "code",
   "execution_count": 20,
   "metadata": {
    "scrolled": true
   },
   "outputs": [
    {
     "ename": "ValueError",
     "evalue": "Found input variables with inconsistent numbers of samples: [402, 391]",
     "output_type": "error",
     "traceback": [
      "\u001b[0;31m---------------------------------------------------------------------------\u001b[0m",
      "\u001b[0;31mValueError\u001b[0m                                Traceback (most recent call last)",
      "\u001b[0;32m<ipython-input-20-f5a99ae75450>\u001b[0m in \u001b[0;36m<module>\u001b[0;34m\u001b[0m\n\u001b[1;32m      1\u001b[0m \u001b[0mx_train\u001b[0m \u001b[0;34m=\u001b[0m  \u001b[0mx_train\u001b[0m\u001b[0;34m[\u001b[0m\u001b[0mpd\u001b[0m\u001b[0;34m.\u001b[0m\u001b[0mnotnull\u001b[0m\u001b[0;34m(\u001b[0m\u001b[0mx_train\u001b[0m\u001b[0;34m)\u001b[0m\u001b[0;34m]\u001b[0m\u001b[0;34m\u001b[0m\u001b[0m\n\u001b[0;32m----> 2\u001b[0;31m \u001b[0mx_train\u001b[0m\u001b[0;34m,\u001b[0m \u001b[0mx_val\u001b[0m\u001b[0;34m,\u001b[0m \u001b[0my_train\u001b[0m\u001b[0;34m,\u001b[0m \u001b[0my_val\u001b[0m \u001b[0;34m=\u001b[0m \u001b[0mtrain_test_split\u001b[0m\u001b[0;34m(\u001b[0m\u001b[0mx_train\u001b[0m\u001b[0;34m,\u001b[0m \u001b[0my_train\u001b[0m\u001b[0;34m,\u001b[0m \u001b[0mtest_size\u001b[0m\u001b[0;34m=\u001b[0m\u001b[0;36m0.2\u001b[0m\u001b[0;34m,\u001b[0m \u001b[0mrandom_state\u001b[0m\u001b[0;34m=\u001b[0m\u001b[0;36m1\u001b[0m\u001b[0;34m)\u001b[0m\u001b[0;34m\u001b[0m\u001b[0m\n\u001b[0m",
      "\u001b[0;32m~/.local/lib/python3.5/site-packages/sklearn/model_selection/_split.py\u001b[0m in \u001b[0;36mtrain_test_split\u001b[0;34m(*arrays, **options)\u001b[0m\n\u001b[1;32m   2094\u001b[0m         \u001b[0;32mraise\u001b[0m \u001b[0mTypeError\u001b[0m\u001b[0;34m(\u001b[0m\u001b[0;34m\"Invalid parameters passed: %s\"\u001b[0m \u001b[0;34m%\u001b[0m \u001b[0mstr\u001b[0m\u001b[0;34m(\u001b[0m\u001b[0moptions\u001b[0m\u001b[0;34m)\u001b[0m\u001b[0;34m)\u001b[0m\u001b[0;34m\u001b[0m\u001b[0m\n\u001b[1;32m   2095\u001b[0m \u001b[0;34m\u001b[0m\u001b[0m\n\u001b[0;32m-> 2096\u001b[0;31m     \u001b[0marrays\u001b[0m \u001b[0;34m=\u001b[0m \u001b[0mindexable\u001b[0m\u001b[0;34m(\u001b[0m\u001b[0;34m*\u001b[0m\u001b[0marrays\u001b[0m\u001b[0;34m)\u001b[0m\u001b[0;34m\u001b[0m\u001b[0m\n\u001b[0m\u001b[1;32m   2097\u001b[0m \u001b[0;34m\u001b[0m\u001b[0m\n\u001b[1;32m   2098\u001b[0m     \u001b[0mn_samples\u001b[0m \u001b[0;34m=\u001b[0m \u001b[0m_num_samples\u001b[0m\u001b[0;34m(\u001b[0m\u001b[0marrays\u001b[0m\u001b[0;34m[\u001b[0m\u001b[0;36m0\u001b[0m\u001b[0;34m]\u001b[0m\u001b[0;34m)\u001b[0m\u001b[0;34m\u001b[0m\u001b[0m\n",
      "\u001b[0;32m~/.local/lib/python3.5/site-packages/sklearn/utils/validation.py\u001b[0m in \u001b[0;36mindexable\u001b[0;34m(*iterables)\u001b[0m\n\u001b[1;32m    228\u001b[0m         \u001b[0;32melse\u001b[0m\u001b[0;34m:\u001b[0m\u001b[0;34m\u001b[0m\u001b[0m\n\u001b[1;32m    229\u001b[0m             \u001b[0mresult\u001b[0m\u001b[0;34m.\u001b[0m\u001b[0mappend\u001b[0m\u001b[0;34m(\u001b[0m\u001b[0mnp\u001b[0m\u001b[0;34m.\u001b[0m\u001b[0marray\u001b[0m\u001b[0;34m(\u001b[0m\u001b[0mX\u001b[0m\u001b[0;34m)\u001b[0m\u001b[0;34m)\u001b[0m\u001b[0;34m\u001b[0m\u001b[0m\n\u001b[0;32m--> 230\u001b[0;31m     \u001b[0mcheck_consistent_length\u001b[0m\u001b[0;34m(\u001b[0m\u001b[0;34m*\u001b[0m\u001b[0mresult\u001b[0m\u001b[0;34m)\u001b[0m\u001b[0;34m\u001b[0m\u001b[0m\n\u001b[0m\u001b[1;32m    231\u001b[0m     \u001b[0;32mreturn\u001b[0m \u001b[0mresult\u001b[0m\u001b[0;34m\u001b[0m\u001b[0m\n\u001b[1;32m    232\u001b[0m \u001b[0;34m\u001b[0m\u001b[0m\n",
      "\u001b[0;32m~/.local/lib/python3.5/site-packages/sklearn/utils/validation.py\u001b[0m in \u001b[0;36mcheck_consistent_length\u001b[0;34m(*arrays)\u001b[0m\n\u001b[1;32m    203\u001b[0m     \u001b[0;32mif\u001b[0m \u001b[0mlen\u001b[0m\u001b[0;34m(\u001b[0m\u001b[0muniques\u001b[0m\u001b[0;34m)\u001b[0m \u001b[0;34m>\u001b[0m \u001b[0;36m1\u001b[0m\u001b[0;34m:\u001b[0m\u001b[0;34m\u001b[0m\u001b[0m\n\u001b[1;32m    204\u001b[0m         raise ValueError(\"Found input variables with inconsistent numbers of\"\n\u001b[0;32m--> 205\u001b[0;31m                          \" samples: %r\" % [int(l) for l in lengths])\n\u001b[0m\u001b[1;32m    206\u001b[0m \u001b[0;34m\u001b[0m\u001b[0m\n\u001b[1;32m    207\u001b[0m \u001b[0;34m\u001b[0m\u001b[0m\n",
      "\u001b[0;31mValueError\u001b[0m: Found input variables with inconsistent numbers of samples: [402, 391]"
     ]
    }
   ],
   "source": [
    "x_train =  x_train[pd.notnull(x_train)]\n",
    "x_train, x_val, y_train, y_val = train_test_split(x_train, y_train, test_size=0.2, random_state=1)"
   ]
  },
  {
   "cell_type": "code",
   "execution_count": 24,
   "metadata": {},
   "outputs": [
    {
     "ename": "ValueError",
     "evalue": "could not convert string to float: 'On Sight'",
     "output_type": "error",
     "traceback": [
      "\u001b[0;31m---------------------------------------------------------------------------\u001b[0m",
      "\u001b[0;31mValueError\u001b[0m                                Traceback (most recent call last)",
      "\u001b[0;32m<ipython-input-24-32d7209bee00>\u001b[0m in \u001b[0;36m<module>\u001b[0;34m\u001b[0m\n\u001b[1;32m      1\u001b[0m \u001b[0;31m# fit a model\u001b[0m\u001b[0;34m\u001b[0m\u001b[0;34m\u001b[0m\u001b[0m\n\u001b[1;32m      2\u001b[0m \u001b[0mlm\u001b[0m \u001b[0;34m=\u001b[0m \u001b[0mlinear_model\u001b[0m\u001b[0;34m.\u001b[0m\u001b[0mLinearRegression\u001b[0m\u001b[0;34m(\u001b[0m\u001b[0;34m)\u001b[0m\u001b[0;34m\u001b[0m\u001b[0m\n\u001b[0;32m----> 3\u001b[0;31m \u001b[0mmodel\u001b[0m \u001b[0;34m=\u001b[0m \u001b[0mlm\u001b[0m\u001b[0;34m.\u001b[0m\u001b[0mfit\u001b[0m\u001b[0;34m(\u001b[0m\u001b[0mx_train\u001b[0m\u001b[0;34m,\u001b[0m \u001b[0my_train\u001b[0m\u001b[0;34m)\u001b[0m\u001b[0;34m\u001b[0m\u001b[0m\n\u001b[0m\u001b[1;32m      4\u001b[0m \u001b[0mpredictions\u001b[0m \u001b[0;34m=\u001b[0m \u001b[0mlm\u001b[0m\u001b[0;34m.\u001b[0m\u001b[0mpredict\u001b[0m\u001b[0;34m(\u001b[0m\u001b[0mx_test\u001b[0m\u001b[0;34m)\u001b[0m\u001b[0;34m\u001b[0m\u001b[0m\n",
      "\u001b[0;32m~/.local/lib/python3.5/site-packages/sklearn/linear_model/base.py\u001b[0m in \u001b[0;36mfit\u001b[0;34m(self, X, y, sample_weight)\u001b[0m\n\u001b[1;32m    461\u001b[0m         \u001b[0mn_jobs_\u001b[0m \u001b[0;34m=\u001b[0m \u001b[0mself\u001b[0m\u001b[0;34m.\u001b[0m\u001b[0mn_jobs\u001b[0m\u001b[0;34m\u001b[0m\u001b[0m\n\u001b[1;32m    462\u001b[0m         X, y = check_X_y(X, y, accept_sparse=['csr', 'csc', 'coo'],\n\u001b[0;32m--> 463\u001b[0;31m                          y_numeric=True, multi_output=True)\n\u001b[0m\u001b[1;32m    464\u001b[0m \u001b[0;34m\u001b[0m\u001b[0m\n\u001b[1;32m    465\u001b[0m         \u001b[0;32mif\u001b[0m \u001b[0msample_weight\u001b[0m \u001b[0;32mis\u001b[0m \u001b[0;32mnot\u001b[0m \u001b[0;32mNone\u001b[0m \u001b[0;32mand\u001b[0m \u001b[0mnp\u001b[0m\u001b[0;34m.\u001b[0m\u001b[0matleast_1d\u001b[0m\u001b[0;34m(\u001b[0m\u001b[0msample_weight\u001b[0m\u001b[0;34m)\u001b[0m\u001b[0;34m.\u001b[0m\u001b[0mndim\u001b[0m \u001b[0;34m>\u001b[0m \u001b[0;36m1\u001b[0m\u001b[0;34m:\u001b[0m\u001b[0;34m\u001b[0m\u001b[0m\n",
      "\u001b[0;32m~/.local/lib/python3.5/site-packages/sklearn/utils/validation.py\u001b[0m in \u001b[0;36mcheck_X_y\u001b[0;34m(X, y, accept_sparse, accept_large_sparse, dtype, order, copy, force_all_finite, ensure_2d, allow_nd, multi_output, ensure_min_samples, ensure_min_features, y_numeric, warn_on_dtype, estimator)\u001b[0m\n\u001b[1;32m    717\u001b[0m                     \u001b[0mensure_min_features\u001b[0m\u001b[0;34m=\u001b[0m\u001b[0mensure_min_features\u001b[0m\u001b[0;34m,\u001b[0m\u001b[0;34m\u001b[0m\u001b[0m\n\u001b[1;32m    718\u001b[0m                     \u001b[0mwarn_on_dtype\u001b[0m\u001b[0;34m=\u001b[0m\u001b[0mwarn_on_dtype\u001b[0m\u001b[0;34m,\u001b[0m\u001b[0;34m\u001b[0m\u001b[0m\n\u001b[0;32m--> 719\u001b[0;31m                     estimator=estimator)\n\u001b[0m\u001b[1;32m    720\u001b[0m     \u001b[0;32mif\u001b[0m \u001b[0mmulti_output\u001b[0m\u001b[0;34m:\u001b[0m\u001b[0;34m\u001b[0m\u001b[0m\n\u001b[1;32m    721\u001b[0m         y = check_array(y, 'csr', force_all_finite=True, ensure_2d=False,\n",
      "\u001b[0;32m~/.local/lib/python3.5/site-packages/sklearn/utils/validation.py\u001b[0m in \u001b[0;36mcheck_array\u001b[0;34m(array, accept_sparse, accept_large_sparse, dtype, order, copy, force_all_finite, ensure_2d, allow_nd, ensure_min_samples, ensure_min_features, warn_on_dtype, estimator)\u001b[0m\n\u001b[1;32m    534\u001b[0m         \u001b[0;31m# make sure we actually converted to numeric:\u001b[0m\u001b[0;34m\u001b[0m\u001b[0;34m\u001b[0m\u001b[0m\n\u001b[1;32m    535\u001b[0m         \u001b[0;32mif\u001b[0m \u001b[0mdtype_numeric\u001b[0m \u001b[0;32mand\u001b[0m \u001b[0marray\u001b[0m\u001b[0;34m.\u001b[0m\u001b[0mdtype\u001b[0m\u001b[0;34m.\u001b[0m\u001b[0mkind\u001b[0m \u001b[0;34m==\u001b[0m \u001b[0;34m\"O\"\u001b[0m\u001b[0;34m:\u001b[0m\u001b[0;34m\u001b[0m\u001b[0m\n\u001b[0;32m--> 536\u001b[0;31m             \u001b[0marray\u001b[0m \u001b[0;34m=\u001b[0m \u001b[0marray\u001b[0m\u001b[0;34m.\u001b[0m\u001b[0mastype\u001b[0m\u001b[0;34m(\u001b[0m\u001b[0mnp\u001b[0m\u001b[0;34m.\u001b[0m\u001b[0mfloat64\u001b[0m\u001b[0;34m)\u001b[0m\u001b[0;34m\u001b[0m\u001b[0m\n\u001b[0m\u001b[1;32m    537\u001b[0m         \u001b[0;32mif\u001b[0m \u001b[0;32mnot\u001b[0m \u001b[0mallow_nd\u001b[0m \u001b[0;32mand\u001b[0m \u001b[0marray\u001b[0m\u001b[0;34m.\u001b[0m\u001b[0mndim\u001b[0m \u001b[0;34m>=\u001b[0m \u001b[0;36m3\u001b[0m\u001b[0;34m:\u001b[0m\u001b[0;34m\u001b[0m\u001b[0m\n\u001b[1;32m    538\u001b[0m             raise ValueError(\"Found array with dim %d. %s expected <= 2.\"\n",
      "\u001b[0;31mValueError\u001b[0m: could not convert string to float: 'On Sight'"
     ]
    }
   ],
   "source": [
    "for c in [0.01, 0.05, 0.25, 0.5, 1]:\n",
    "    \n",
    "    lr = LogisticRegression(C=c)\n",
    "    lr.fit(X_train, y_train)\n",
    "    print (\"Accuracy for C=%s: %s\" \n",
    "           % (c, accuracy_score(y_val, lr.predict(X_val))))\n"
   ]
  }
 ],
 "metadata": {
  "kernelspec": {
   "display_name": "Python 3",
   "language": "python",
   "name": "python3"
  },
  "language_info": {
   "codemirror_mode": {
    "name": "ipython",
    "version": 3
   },
   "file_extension": ".py",
   "mimetype": "text/x-python",
   "name": "python",
   "nbconvert_exporter": "python",
   "pygments_lexer": "ipython3",
   "version": "3.5.2"
  }
 },
 "nbformat": 4,
 "nbformat_minor": 2
}
